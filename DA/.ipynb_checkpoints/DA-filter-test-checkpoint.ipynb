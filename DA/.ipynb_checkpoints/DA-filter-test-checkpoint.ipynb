{
 "metadata": {
  "name": "",
  "signature": "sha256:baa335e9e6c27f8ca374982cfdaf88b9906f4c0dbe00b046c8891589e7223f80"
 },
 "nbformat": 3,
 "nbformat_minor": 0,
 "worksheets": []
}