{
 "metadata": {
  "language": "Julia",
  "name": "",
  "signature": "sha256:5ac4a7d48a05ef49c51d6f4671075a7c9a880e29bcd9acc9062a5c329d221220"
 },
 "nbformat": 3,
 "nbformat_minor": 0,
 "worksheets": [
  {
   "cells": [
    {
     "cell_type": "code",
     "collapsed": false,
     "input": [
      "include(\"DA.jl\")\n",
      "using DA\n",
      "\n",
      "# some samples\n",
      "A = repmat([1,2,3],1,10)+.1*randn(3,10)\n",
      "X_f = A\n",
      "y_0 = [1.5,2.1,3.01]\n",
      "H = eye(3)\n",
      "R = .05.*eye(3)\n",
      "delta = .01\n",
      "\n",
      "# give it a shot\n",
      "X_a = EnKF(X_f,y_0,H,R,delta)\n",
      "\n",
      "println(\"quick test result:\")\n",
      "println(X_a)\n",
      "\n",
      "println(\"beginning real test\")\n",
      "include(\"foamLab.jl\")\n",
      "using foamLab\n",
      "l = Lorenz63()\n",
      "\n",
      "window = 0.1\n",
      "runtime = 1.0\n",
      "l.window = window\n",
      "l.x = randn(3)*10.0\n",
      "# get it to some model state\n",
      "for i=1:100\n",
      "   run(l)\n",
      "end\n",
      "\n",
      "# make a truth run\n",
      "truth = zeros(length(l.x),int(runtime/window)+1)\n",
      "truth[:,1] = l.x\n",
      "for i=1:int(runtime/window)\n",
      "    run(l)\n",
      "    truth[:,i+1] = l.x\n",
      "end\n",
      "\n",
      "# perturb that with uniform noise\n",
      "stddev = .5\n",
      "observations = truth+randn(size(truth))*stddev\n",
      "\n",
      "# now try to predict it\n",
      "l.t = 0.0\n",
      "\n",
      "# this fills with the same model\n",
      "# ens = fill(Lorenz63(),20,1)\n",
      "# ens = fill(Lorenz63,20,1)\n",
      "delta = 0.0\n",
      "sigma = 0.0\n",
      "Nens = 20\n",
      "ens = Array(Lorenz63,Nens)\n",
      "for i=1:Nens\n",
      "    println(\"initializing ensemble $(i)\")\n",
      "    ens[i] = Lorenz63()\n",
      "    ens[i].x = randn(3)*10.0\n",
      "    for j=1:10\n",
      "        run(ens[i])\n",
      "    end\n",
      "    ens[i].t = 0.0\n",
      "    ens[i].window = window\n",
      "end\n",
      "\n",
      "forecast = zeros(truth)\n",
      "analysis = zeros(truth)\n",
      "X_f = zeros(3,Nens)\n",
      "for i=1:Nens\n",
      "    X_f[:,i] = ens[i].x\n",
      "end\n",
      "forecast[:,1] = mean(X_f,2)\n",
      "println(\"initial application of filter\")\n",
      "X_a = EnKF(X_f,observations[:,1],eye(3),eye(3).*stddev,delta)\n",
      "# X_a = ETKF(X_f,observations[:,1],eye(3),eye(3).*stddev,delta)\n",
      "println(\"initial analysis:\")\n",
      "println(X_a)\n",
      "analysis[:,1] = mean(X_a,2)\n",
      "for i=1:Nens\n",
      "    ens[i].x = X_a[:,i]+randn(3)*sigma\n",
      "end\n",
      "\n",
      "for j=1:int(runtime/window)\n",
      "    # println(\"time is $(j*window)\")\n",
      "    for i=1:Nens\n",
      "        run(ens[i])\n",
      "    end\n",
      "    for i=1:Nens\n",
      "        X_f[:,i] = ens[i].x\n",
      "    end\n",
      "    forecast[:,j+1] = mean(X_f,2)\n",
      "    X_a = EnKF(X_f,observations[:,j+1],eye(3),eye(3).*stddev,delta)\n",
      "    # X_a = ETKF(X_f,observations[:,j+1],eye(3),eye(3).*stddev,delta)\n",
      "    analysis[:,j+1] = mean(X_a,2)\n",
      "    for i=1:Nens\n",
      "        ens[i].x = X_a[:,i]+randn(3)*sigma\n",
      "    end\n",
      "end\n",
      "\n",
      "# println(truth[:,1])\n",
      "# println(observations[:,1])\n",
      "# println(forecast[:,1])\n",
      "# println(analysis[:,1])\n",
      "\n",
      "# println(truth[:,end])\n",
      "# println(observations[:,end])\n",
      "# println(forecast[:,end])\n",
      "# println(analysis[:,end])\n",
      "\n",
      "# println(\"here are each of the ensembles:\")\n",
      "# for i=1:Nens\n",
      "#     println(ens[i].x)\n",
      "# end"
     ],
     "language": "python",
     "metadata": {},
     "outputs": [
      {
       "output_type": "stream",
       "stream": "stdout",
       "text": [
        "quick test result:\n"
       ]
      },
      {
       "output_type": "stream",
       "stream": "stdout",
       "text": [
        "["
       ]
      },
      {
       "output_type": "stream",
       "stream": "stdout",
       "text": [
        "5.52350508297952 5.184306332328654 6.481139559000751 6.436160791616958 6.371124115776663 5.31347438056699 6.550912181870801 5.38303547121121 5.976944004045215 6.68928368826972\n",
        " 3.757492960357016 2.3977060353389996 2.8925208466209114 3.1688780465704016 3.6293981766003904 2.983779774925022 4.453003109238001 3.4086950968100855 3.515360554054044 4.790878422760007\n",
        " 4.84723481942926 4.674076215901789 5.286502929731177 4.275189243872651 5.304751398069602 3.8748825899468082 6.417588329299825 5.097567053618848 4.661163611340557 5.365646246291625]\n",
        "beginning real test\n",
        "initializing ensemble 1"
       ]
      },
      {
       "output_type": "stream",
       "stream": "stdout",
       "text": [
        "\n",
        "initializing ensemble 2"
       ]
      },
      {
       "output_type": "stream",
       "stream": "stdout",
       "text": [
        "\n",
        "initializing ensemble 3"
       ]
      },
      {
       "output_type": "stream",
       "stream": "stdout",
       "text": [
        "\n",
        "initializing ensemble 4"
       ]
      },
      {
       "output_type": "stream",
       "stream": "stdout",
       "text": [
        "\n",
        "initializing ensemble 5"
       ]
      },
      {
       "output_type": "stream",
       "stream": "stdout",
       "text": [
        "\n",
        "initializing ensemble 6"
       ]
      },
      {
       "output_type": "stream",
       "stream": "stdout",
       "text": [
        "\n",
        "initializing ensemble 7"
       ]
      },
      {
       "output_type": "stream",
       "stream": "stdout",
       "text": [
        "\n",
        "initializing ensemble 8"
       ]
      },
      {
       "output_type": "stream",
       "stream": "stdout",
       "text": [
        "\n",
        "initializing ensemble 9"
       ]
      },
      {
       "output_type": "stream",
       "stream": "stdout",
       "text": [
        "\n",
        "initializing ensemble 10"
       ]
      },
      {
       "output_type": "stream",
       "stream": "stdout",
       "text": [
        "\n",
        "initializing ensemble 11"
       ]
      },
      {
       "output_type": "stream",
       "stream": "stdout",
       "text": [
        "\n",
        "initializing ensemble 12"
       ]
      },
      {
       "output_type": "stream",
       "stream": "stdout",
       "text": [
        "\n",
        "initializing ensemble 13"
       ]
      },
      {
       "output_type": "stream",
       "stream": "stdout",
       "text": [
        "\n",
        "initializing ensemble 14"
       ]
      },
      {
       "output_type": "stream",
       "stream": "stdout",
       "text": [
        "\n",
        "initializing ensemble 15"
       ]
      },
      {
       "output_type": "stream",
       "stream": "stdout",
       "text": [
        "\n",
        "initializing ensemble 16"
       ]
      },
      {
       "output_type": "stream",
       "stream": "stdout",
       "text": [
        "\n",
        "initializing ensemble 17"
       ]
      },
      {
       "output_type": "stream",
       "stream": "stdout",
       "text": [
        "\n",
        "initializing ensemble 18"
       ]
      },
      {
       "output_type": "stream",
       "stream": "stdout",
       "text": [
        "\n",
        "initializing ensemble 19"
       ]
      },
      {
       "output_type": "stream",
       "stream": "stdout",
       "text": [
        "\n",
        "initializing ensemble 20"
       ]
      },
      {
       "output_type": "stream",
       "stream": "stdout",
       "text": [
        "\n",
        "initial application of filter"
       ]
      },
      {
       "output_type": "stream",
       "stream": "stdout",
       "text": [
        "\n",
        "initial analysis:\n",
        "[7.059529960428156 6.270159215792946 7.38574786689756 6.84325461368684 7.037352668205049 7.164744151633469 6.473856985612732 6.276388004443326 7.616199853936742 7.559393795505247 7.5176286599699855 6.760325513086433 7.7135071266870145 6.964611762851194 7.217371825063702 7.0581737207686395 6.354158924088956 7.880162489719666 7.685600742786276 7.563147497758754\n",
        " 8.104104815205112 8.307820097371005 7.56344946749196 7.854101669877956 7.960072424814574 7.822683730407501 7.971620029208257 7.679728812929763 7.292468378354927 8.028109647249739 7.854328538049177 7.691640988531585 8.211988827657079 7.535946389813888 7.908690865741541 8.263646288694684 7.391864587150513 8.285883114377897 7.959980060059243 8.293747686485796\n",
        " 27.072025276471276 26.350465994627704 25.903440265778165 25.679474772492757 27.225595580663295 25.99886764442001 25.54669604482791 24.260878512472274 25.274931999140037 26.15937733846301 26.768510147654958 25.170087955693447 25.023340512029947 27.04921256006874 24.53869492464849 26.01084455195348 26.455280072327646 25.766674299391525 24.9848850088754 25.222652359210304]\n"
       ]
      }
     ],
     "prompt_number": 1
    },
    {
     "cell_type": "code",
     "collapsed": false,
     "input": [
      "# let's test RMSE vs ensemble size\n",
      "\n",
      "# ens_sizes = [5,10,20,50,100,500]\n",
      "ens_sizes = [5,10,20,50,100]\n",
      "n_trials = 10\n",
      "ens_RMSE = zeros(Float64,(size(ens_sizes)[1],n_trials))\n",
      "\n",
      "\n",
      "println(\"testing vs ensemble size\")\n",
      "\n",
      "# delta = 0.05\n",
      "# sigma = 0.05\n",
      "delta = 0.00\n",
      "sigma = 0.00\n",
      "window = 0.1\n",
      "runtime = 20.0\n",
      "\n",
      "l = Lorenz63()\n",
      "l.window = window\n",
      "l.x = randn(3)*10.0\n",
      "# get it to some model state\n",
      "for i=1:100\n",
      "   run(l)\n",
      "end\n",
      "\n",
      "# make a truth run\n",
      "truth = zeros(length(l.x),int(runtime/window)+1)\n",
      "truth[:,1] = l.x\n",
      "for i=1:int(runtime/window)\n",
      "    run(l)\n",
      "    truth[:,i+1] = l.x\n",
      "end\n",
      "\n",
      "# perturb that with uniform noise\n",
      "stddev = .5\n",
      "observations = truth+randn(size(truth))*stddev\n",
      "\n",
      "# now try to predict it\n",
      "l.t = 0.0\n",
      "\n",
      "for ens_i=1:size(ens_sizes)[1]\n",
      "    Nens = ens_sizes[ens_i]\n",
      "    for trial=1:n_trials\n",
      "    println(\"using Nens=$(Nens)\")\n",
      "    ens = Array(Lorenz63,Nens)\n",
      "    for i=1:Nens\n",
      "        # println(\"initializing ensemble $(i)\")\n",
      "        ens[i] = Lorenz63()\n",
      "        ens[i].x = randn(3)*10.0\n",
      "        for j=1:10\n",
      "            run(ens[i])\n",
      "        end\n",
      "        ens[i].t = 0.0\n",
      "        ens[i].window = window\n",
      "    end\n",
      "\n",
      "    forecast = zeros(truth)\n",
      "    analysis = zeros(truth)\n",
      "    X_f = zeros(3,Nens)\n",
      "    for i=1:Nens\n",
      "        X_f[:,i] = ens[i].x\n",
      "    end\n",
      "    forecast[:,1] = mean(X_f,2)\n",
      "    println(\"initial application of filter\")\n",
      "    X_a = EnKF(X_f,observations[:,1],eye(3),eye(3).*stddev,delta)\n",
      "    # X_a = ETKF(X_f,observations[:,1],eye(3),eye(3).*stddev,delta)\n",
      "    println(\"initial analysis:\")\n",
      "    println(X_a)\n",
      "    analysis[:,1] = mean(X_a,2)\n",
      "    for i=1:Nens\n",
      "        ens[i].x = X_a[:,i]+randn(3)*sigma\n",
      "    end\n",
      "\n",
      "    for j=1:int(runtime/window)\n",
      "        # println(\"time is $(j*window)\")\n",
      "        for i=1:Nens\n",
      "            run(ens[i])\n",
      "        end\n",
      "        for i=1:Nens\n",
      "            X_f[:,i] = ens[i].x\n",
      "        end\n",
      "        forecast[:,j+1] = mean(X_f,2)\n",
      "        X_a = EnKF(X_f,observations[:,j+1],eye(3),eye(3).*stddev,delta)\n",
      "        # X_a = ETKF(X_f,observations[:,j+1],eye(3),eye(3).*stddev,delta)\n",
      "        analysis[:,j+1] = mean(X_a,2)\n",
      "        for i=1:Nens\n",
      "            ens[i].x = X_a[:,i]+randn(3)*sigma\n",
      "        end\n",
      "    end\n",
      "    println(\"final analysis:\")\n",
      "    println(X_a)\n",
      "    # println(ens_i)\n",
      "    # println(rmse(truth[1,:],forecast[1,:]))\n",
      "    # ens_RMSE[ens_i] = rmse(truth[1,:],forecast[1,:])\n",
      "        ens_RMSE[ens_i,trial] = sqrt(sum((truth[1,:]-forecast[1,:]).^2))\n",
      "    end\n",
      "end"
     ],
     "language": "python",
     "metadata": {},
     "outputs": [
      {
       "output_type": "stream",
       "stream": "stdout",
       "text": [
        "testing vs ensemble size\n"
       ]
      },
      {
       "output_type": "stream",
       "stream": "stdout",
       "text": [
        "using Nens=5"
       ]
      },
      {
       "output_type": "stream",
       "stream": "stdout",
       "text": [
        "\n",
        "initial application of filter"
       ]
      },
      {
       "output_type": "stream",
       "stream": "stdout",
       "text": [
        "\n",
        "initial analysis:\n",
        "[7.631445292824419 6.752855473452956 9.288882902490883 9.69372381300464 8.15221218267441\n",
        " 7.432613374543663 7.821005892017318 6.759392484582857 5.0200221411599735 7.523318532066696\n",
        " 27.867383687738833 27.96636774370839 26.958737726307938 27.221162631376295 27.465292779238883]\n",
        "final analysis:\n",
        "[NaN NaN NaN NaN NaN\n",
        " NaN NaN NaN NaN NaN\n",
        " NaN NaN NaN NaN NaN]\n",
        "using Nens=5"
       ]
      },
      {
       "output_type": "stream",
       "stream": "stdout",
       "text": [
        "\n",
        "initial application of filter"
       ]
      },
      {
       "output_type": "stream",
       "stream": "stdout",
       "text": [
        "\n",
        "initial analysis:\n",
        "[10.40872067562687 13.976640836000144 11.213046687816512 8.933879344716589 12.8546618570713\n",
        " 5.763236193547934 1.6457451835519041 3.9286323138027113 4.7654970686801725 3.2101903422824885\n",
        " 27.783724975756073 27.65116263125021 28.182733510380643 28.013067789188398 27.914076793843492]\n",
        "final analysis:\n",
        "[NaN NaN NaN NaN NaN\n",
        " NaN NaN NaN NaN NaN\n",
        " NaN NaN NaN NaN NaN]\n",
        "using Nens=5\n",
        "initial application of filter"
       ]
      },
      {
       "output_type": "stream",
       "stream": "stdout",
       "text": [
        "\n",
        "initial analysis:\n",
        "[9.591373639011628 12.160582029950955 12.140329043688011 11.511409967313533 10.832377061107412\n",
        " 5.531016560996729 4.181082887951111 3.9047922137868873 5.158718529960496 3.904711972864275\n",
        " 27.973320818516278 27.248946336752752 29.750382908015972 28.742565726015577 27.91935493431444]\n",
        "final analysis:\n",
        "[NaN NaN NaN NaN NaN\n",
        " NaN NaN NaN NaN NaN\n",
        " NaN NaN NaN NaN NaN]\n",
        "using Nens=5\n",
        "initial application of filter"
       ]
      },
      {
       "output_type": "stream",
       "stream": "stdout",
       "text": [
        "\n",
        "initial analysis:\n",
        "[8.207446077213062 8.922224994910398 8.73349491617243 7.823954718800568 7.802387246454928\n",
        " 6.564251964313495 6.792743649382198 6.918628058440991 6.839886209586929 7.4504296909095284\n",
        " 27.14868494341701 28.296388630506087 27.459235262978197 27.282971543079945 27.83096340987723]\n",
        "final analysis:"
       ]
      },
      {
       "output_type": "stream",
       "stream": "stdout",
       "text": [
        "\n",
        "[NaN NaN NaN NaN NaN\n",
        " NaN NaN NaN NaN NaN\n",
        " NaN NaN NaN NaN NaN]\n",
        "using Nens=5\n",
        "initial application of filter"
       ]
      },
      {
       "output_type": "stream",
       "stream": "stdout",
       "text": [
        "\n",
        "initial analysis:\n",
        "[46.90418752900828 57.33450402024087 55.93603319806327 47.71680714549155 39.80912003576665\n",
        " -26.30738949386341 -35.200267938777316 -33.61161694367373 -27.399299560266545 -20.9249652770897\n",
        " 43.62300900456861 48.862650848101374 48.857038772813205 45.835499527640835 42.006430435925836]\n",
        "final analysis:"
       ]
      },
      {
       "output_type": "stream",
       "stream": "stdout",
       "text": [
        "\n",
        "[NaN NaN NaN NaN NaN\n",
        " NaN NaN NaN NaN NaN\n",
        " NaN NaN NaN NaN NaN]\n",
        "using Nens=5\n",
        "initial application of filter"
       ]
      },
      {
       "output_type": "stream",
       "stream": "stdout",
       "text": [
        "\n",
        "initial analysis:\n",
        "[8.49827361284008 8.382044896671554 8.909757351919565 8.13662875477885 8.408062255885676\n",
        " 7.0130201141825825 6.0983891936943335 6.758833494004854 7.263732872271669 6.218212968569256\n",
        " 27.23227154629881 26.997568460897647 26.126398200824582 27.145729248105017 27.898286235704557]\n",
        "final analysis:\n",
        "[NaN NaN NaN NaN NaN\n",
        " NaN NaN NaN NaN NaN\n",
        " NaN NaN NaN NaN NaN]\n",
        "using Nens=5\n",
        "initial application of filter"
       ]
      },
      {
       "output_type": "stream",
       "stream": "stdout",
       "text": [
        "\n",
        "initial analysis:\n",
        "[7.125761173235544 8.126320443799141 8.439062917421218 7.94383914932157 8.564095822751291\n",
        " 6.806334132773188 6.83140327684503 5.9733221103916705 6.613003987658347 6.5284668090258835\n",
        " 27.639193786052942 27.117883387339575 28.233022785687098 27.54278002474452 26.724699658051705]\n",
        "final analysis:"
       ]
      },
      {
       "output_type": "stream",
       "stream": "stdout",
       "text": [
        "\n",
        "[NaN NaN NaN NaN NaN\n",
        " NaN NaN NaN NaN NaN\n",
        " NaN NaN NaN NaN NaN]\n",
        "using Nens=5\n",
        "initial application of filter"
       ]
      },
      {
       "output_type": "stream",
       "stream": "stdout",
       "text": [
        "\n",
        "initial analysis:\n",
        "[8.035210736822044 6.076369473069598 6.342090043992126 7.632820963077106 9.623015202550466\n",
        " 7.2828492894170935 7.713485290894779 7.43094297183468 7.374069129329715 6.087291610870872\n",
        " 26.875031021594374 26.742190154723314 28.426425028747772 27.212773904670666 28.22543044161773]\n",
        "final analysis:"
       ]
      },
      {
       "output_type": "stream",
       "stream": "stdout",
       "text": [
        "\n",
        "[NaN NaN NaN NaN NaN\n",
        " NaN NaN NaN NaN NaN\n",
        " NaN NaN NaN NaN NaN]\n",
        "using Nens=5\n",
        "initial application of filter"
       ]
      },
      {
       "output_type": "stream",
       "stream": "stdout",
       "text": [
        "\n",
        "initial analysis:\n",
        "[8.900123444134788 7.879753623688249 8.672529170985477 8.340932563378626 7.894147743216255\n",
        " 6.60979605925281 7.039790843606685 6.188488899039372 6.634591285000317 7.5723945094428515\n",
        " 27.251751653891823 27.383622813308804 27.053472124171858 27.224598281634993 27.441299507767212]\n",
        "final analysis:\n",
        "[NaN NaN NaN NaN NaN\n",
        " NaN NaN NaN NaN NaN\n",
        " NaN NaN NaN NaN NaN]\n",
        "using Nens=5\n",
        "initial application of filter"
       ]
      },
      {
       "output_type": "stream",
       "stream": "stdout",
       "text": [
        "\n",
        "initial analysis:\n",
        "[8.196291029792759 9.591761237316195 8.512615043814915 7.9647001449319035 8.22838143431308\n",
        " 7.209425073744843 5.436476298091273 7.042970901136693 5.779817936645854 5.726846997229391\n",
        " 28.06603633428692 27.530507885553703 27.581846080582746 27.019946200909853 28.398354386032185]\n",
        "final analysis:"
       ]
      },
      {
       "output_type": "stream",
       "stream": "stdout",
       "text": [
        "\n",
        "[NaN NaN NaN NaN NaN\n",
        " NaN NaN NaN NaN NaN\n",
        " NaN NaN NaN NaN NaN]\n",
        "using Nens=10\n",
        "initial application of filter"
       ]
      },
      {
       "output_type": "stream",
       "stream": "stdout",
       "text": [
        "\n",
        "initial analysis:\n",
        "[7.806714450858687 8.14682055496816 7.929546465565805 8.874893233952454 8.177903301949664 9.211268493678407 8.973903753762182 8.726326553532083 7.756403197937058 8.69748608905245\n",
        " 7.545282783135239 6.145644975820325 6.2278033208333365 6.396440390624111 6.8340803985757805 6.31593234623592 7.266995207893782 6.629823837388145 6.350610853645755 7.028330051697171\n",
        " 27.32438658045496 27.36246160144323 27.072757087177017 27.366697071038637 27.36876891406957 28.252455329031722 27.716351757095683 27.846752223251002 28.30927068950619 27.633562115895643]\n",
        "final analysis:"
       ]
      },
      {
       "output_type": "stream",
       "stream": "stdout",
       "text": [
        "\n",
        "[NaN NaN NaN NaN NaN NaN NaN NaN NaN NaN\n",
        " NaN NaN NaN NaN NaN NaN NaN NaN NaN NaN\n",
        " NaN NaN NaN NaN NaN NaN NaN NaN NaN NaN]\n",
        "using Nens=10\n",
        "initial application of filter"
       ]
      },
      {
       "output_type": "stream",
       "stream": "stdout",
       "text": [
        "\n",
        "initial analysis:\n",
        "[7.923676016222173 7.881252045595881 8.243136323280915 8.300138732776036 9.11101714796279 8.55836383167597 8.196485896504765 8.46741551213476 8.919330958953504 8.495940895488964\n",
        " 6.532774981492973 5.920914872181147 6.430692745254237 6.604836492828294 7.357328881157278 5.4925380786602584 6.802592649299651 7.6194696118467204 6.355377642630109 6.827483925184611\n",
        " 27.2312335465945 27.2019476490895 26.684421309166055 26.931338209851337 28.62897178954878 26.51393121023328 27.32495082883043 27.179979595157477 26.759986105434855 27.053409456590714]\n",
        "final analysis:"
       ]
      },
      {
       "output_type": "stream",
       "stream": "stdout",
       "text": [
        "\n",
        "[NaN NaN NaN NaN NaN NaN NaN NaN NaN NaN\n",
        " NaN NaN NaN NaN NaN NaN NaN NaN NaN NaN\n",
        " NaN NaN NaN NaN NaN NaN NaN NaN NaN NaN]\n",
        "using Nens=10\n",
        "initial application of filter"
       ]
      },
      {
       "output_type": "stream",
       "stream": "stdout",
       "text": [
        "\n",
        "initial analysis:\n",
        "[9.728553618606803 8.666193534564083 8.247136450198763 8.884760256650047 8.446644985511734 9.13993156085936 8.46557788298241 8.328063884703948 8.47202844874299 8.754505767876596\n",
        " 6.355212215906265 7.189125972307032 7.192963051279232 6.249022192782082 6.902382402143832 5.78589354340618 6.852331815613332 7.1291543953854415 6.818940478525249 5.839431023190587\n",
        " 27.65395330352758 27.396778150221746 28.09674405441569 27.5833058494863 27.15574379950671 27.43423663284306 27.226257018084585 28.227288496364082 27.330820139264365 28.13353923271054]\n",
        "final analysis:"
       ]
      },
      {
       "output_type": "stream",
       "stream": "stdout",
       "text": [
        "\n",
        "[141.30681544312395 238.9256197465647 209.59752416924567 196.34881863717914 142.9948815930106 217.2650056887709 167.6545640343955 232.83733356402095 174.51870160468914 313.61648136462503\n",
        " -77.37173896661498 -132.2928217438767 -116.34837021527419 -109.30606692140016 -79.56941710513985 -119.58860733015375 -93.37145924734263 -129.72625703625928 -97.61103161186965 -174.24289715561528\n",
        " -5.623451824732417 -17.95642667788958 -9.441769181118701 -12.467881554146558 -3.9097757088675467 -9.455953653853337 -9.284524739985645 -14.226051693534817 -8.736697257987167 -21.981021206501588]\n",
        "using Nens=10\n",
        "initial application of filter"
       ]
      },
      {
       "output_type": "stream",
       "stream": "stdout",
       "text": [
        "\n",
        "initial analysis:\n",
        "[8.596624266757566 10.154945736892788 10.199365436882234 9.410274166204378 10.274193812258154 9.303482727432971 9.169143324902283 9.722328159242418 10.565894256356668 9.422727629262852\n",
        " 5.815246643549992 7.088494560422854 5.780724431768499 5.317774914829693 5.792860446425735 5.812140713079387 5.539907245090506 6.0937185583547695 5.14712562852101 6.216679041538564\n",
        " 26.76674576916452 28.56259022155199 26.885393023581866 27.798352632217686 27.786641253157672 27.850266639211164 28.53395717328077 27.670769542105234 28.32654540741702 28.013110029616715]\n",
        "final analysis:"
       ]
      },
      {
       "output_type": "stream",
       "stream": "stdout",
       "text": [
        "\n",
        "[-0.42061758969910734 3.1421087417691886 3.633959975929537 2.055171978410005 2.313391305141325 4.908371251757901 3.028707707068137 1.7419579365127937 4.7799888377997455 5.469640835833864\n",
        " 0.03709934851646679 -1.2815258988531681 -1.6630862634472905 -2.1036917872668344 -1.407973925698041 -2.1525345077685167 -1.0001149030231933 -1.3053229416359766 -1.926666537214782 -2.951809740265384\n",
        " 5.716304561653443 6.199818078992276 5.535522093870687 6.146022330409235 6.122971954949556 5.19187422169054 5.821315299025562 6.041143729226879 4.892990780187575 5.308066668332916]\n",
        "using Nens=10\n",
        "initial application of filter"
       ]
      },
      {
       "output_type": "stream",
       "stream": "stdout",
       "text": [
        "\n",
        "initial analysis:\n",
        "[8.238941876922302 8.602235525241515 7.6833204738815795 6.684967903821412 7.969331649614187 7.369347758210612 8.408601008571631 8.706763496793993 8.892693051328799 8.240391754231059\n",
        " 7.672925151914276 6.154923587488485 7.143942782347593 6.9955863688258315 5.928354215688184 5.550099839060079 7.19495581294461 6.878488567351428 7.205678609989753 6.768146958935176\n",
        " 27.108222904273156 27.193184072941335 26.97505195731236 28.315607930469298 28.352872596596434 28.004224390884904 27.772162917059315 26.525667491892552 27.73842840922498 27.875619463793623]\n",
        "final analysis:"
       ]
      },
      {
       "output_type": "stream",
       "stream": "stdout",
       "text": [
        "\n",
        "[1.113473339306772 2.0469040991460368 0.8284942786511351 0.5062883226298744 0.6569184577078726 -0.2949378291743301 0.30971547443046177 0.055544180838282387 0.7372688932854885 2.108004367995079\n",
        " 0.0681870737950021 -1.3829767534403217 -0.8866698456908217 0.0773168810330418 -0.8417987377181539 -0.3553892836211716 -0.14230840749065976 -0.8267366008151846 -0.38332135634933273 -0.1744416844022183\n",
        " 6.325111209063988 5.7863970861646195 5.8293734294635815 6.3631476074735644 5.7844262956263615 6.180888653007855 6.279441076823453 6.04917476161291 6.284525297729099 5.483458103548067]\n",
        "using Nens=10\n",
        "initial application of filter"
       ]
      },
      {
       "output_type": "stream",
       "stream": "stdout",
       "text": [
        "\n",
        "initial analysis:\n",
        "[8.479162293537188 8.346539008213202 8.81030383637847 8.78027508980845 9.300273529494302 8.642285680988316 9.2356460392567 9.164733626301492 9.820232346932158 9.758892083511073\n",
        " 7.506548128205784 5.922998596862332 6.443050709532304 6.648742424780481 6.137616107267122 6.476266775222036 6.121046709871019 6.700333608669473 6.215648612991121 6.24792038182125\n",
        " 27.92907185910761 28.027068423442373 26.452297260633625 28.11696487801253 27.492762653051535 27.01213055822241 27.803873661377963 27.167979606479314 27.52886131613901 26.985793877670673]\n",
        "final analysis:"
       ]
      },
      {
       "output_type": "stream",
       "stream": "stdout",
       "text": [
        "\n",
        "[NaN NaN NaN NaN NaN NaN NaN NaN NaN NaN\n",
        " NaN NaN NaN NaN NaN NaN NaN NaN NaN NaN\n",
        " NaN NaN NaN NaN NaN NaN NaN NaN NaN NaN]\n",
        "using Nens=10\n",
        "initial application of filter"
       ]
      },
      {
       "output_type": "stream",
       "stream": "stdout",
       "text": [
        "\n",
        "initial analysis:\n",
        "[7.729327386683625 8.556611876718188 8.574103931044487 8.870137246557567 8.061536723367295 9.084979780086373 7.895904032033917 9.103299629076178 8.80508276215441 8.897472825621783\n",
        " 8.99503927126674 6.5445117085879065 7.3734222677459575 8.102899272437176 7.05917897563915 7.675583159011196 7.450193075240955 5.137572734583857 8.02004829265966 5.863411551917123\n",
        " 27.174878053905942 27.722657950368035 27.82880068447584 27.67411461624495 26.733404766483368 28.117612781528557 27.02847066610355 26.971358860582185 26.642464005038352 27.449066760770485]\n",
        "final analysis:"
       ]
      },
      {
       "output_type": "stream",
       "stream": "stdout",
       "text": [
        "\n",
        "[NaN NaN NaN NaN NaN NaN NaN NaN NaN NaN\n",
        " NaN NaN NaN NaN NaN NaN NaN NaN NaN NaN\n",
        " NaN NaN NaN NaN NaN NaN NaN NaN NaN NaN]\n",
        "using Nens=10\n",
        "initial application of filter"
       ]
      },
      {
       "output_type": "stream",
       "stream": "stdout",
       "text": [
        "\n",
        "initial analysis:\n",
        "[8.090904775041095 8.471889503804125 7.369568662703774 8.357377875335725 9.434505394994176 7.913109709373856 8.347339674549344 8.498836314697627 8.072121372144036 8.656391274378453\n",
        " 6.737861105677705 6.126075606630166 6.506760741133366 6.775638263217422 7.67881164773814 6.779810930531694 6.370003268705147 6.0953605090642125 6.33144650042127 7.352567138071164\n",
        " 27.225913880929802 27.448867193661766 27.363002443368625 27.23010724894425 27.369685636626308 27.37714204836596 27.589221436349348 27.798620397652755 27.780548866123297 26.86230380226256]\n",
        "final analysis:"
       ]
      },
      {
       "output_type": "stream",
       "stream": "stdout",
       "text": [
        "\n",
        "[NaN NaN NaN NaN NaN NaN NaN NaN NaN NaN\n",
        " NaN NaN NaN NaN NaN NaN NaN NaN NaN NaN\n",
        " NaN NaN NaN NaN NaN NaN NaN NaN NaN NaN]\n",
        "using Nens=10\n",
        "initial application of filter"
       ]
      },
      {
       "output_type": "stream",
       "stream": "stdout",
       "text": [
        "\n",
        "initial analysis:\n",
        "[8.613534280758477 7.799987948287492 8.514719202812227 8.754179188834064 8.506622821261816 7.570716006947813 8.509711346014333 8.604546729640738 8.46157476346552 7.129511646301372\n",
        " 6.5403333211699195 6.710777706255756 7.333013507039151 6.380218279158473 6.6049958118755425 6.876995698707864 6.5666372129160715 6.458798413614494 6.339459958320955 6.607629491145513\n",
        " 27.450934545339855 27.41815003767804 28.28125174197454 28.802541670125372 27.895923678321758 28.061611609316838 27.925525981784187 28.174764949723752 27.08468369061621 28.038069338589466]\n",
        "final analysis:"
       ]
      },
      {
       "output_type": "stream",
       "stream": "stdout",
       "text": [
        "\n",
        "[NaN NaN NaN NaN NaN NaN NaN NaN NaN NaN\n",
        " NaN NaN NaN NaN NaN NaN NaN NaN NaN NaN\n",
        " NaN NaN NaN NaN NaN NaN NaN NaN NaN NaN]\n",
        "using Nens=10\n",
        "initial application of filter"
       ]
      },
      {
       "output_type": "stream",
       "stream": "stdout",
       "text": [
        "\n",
        "initial analysis:\n",
        "[9.212113256874762 8.401511451756118 7.525144087363483 8.029515631097706 7.907876386201067 7.078033879047095 7.907692110008549 8.603790781835235 8.049946580848324 8.258233445890689\n",
        " 6.50119618921628 6.534383458525916 7.75068119433888 6.735840478948322 6.696060629733461 7.451700659434959 8.009930031829198 8.203003105039162 7.346263830421346 6.348337873487254\n",
        " 26.95827431369017 27.71329628676967 27.29927632675443 26.884789900994818 26.810128044519338 28.18504339105943 27.399898745043583 27.339814055745716 27.132525681340198 27.383011641223398]\n",
        "final analysis:"
       ]
      },
      {
       "output_type": "stream",
       "stream": "stdout",
       "text": [
        "\n",
        "[284.0725059393572 317.8744581914429 291.59960813819924 149.09529365203926 152.9085187982063 270.20372303907214 47.48743188433899 110.88616264159286 393.9979177506294 94.61320813708775\n",
        " -148.3838614256451 -168.50203144635626 -154.23742876566098 -79.2323519023466 -80.1174838556669 -142.80565663546835 -22.394555183115344 -58.7077448318321 -207.59762496585188 -50.061314098313375\n",
        " -16.734715929489038 -15.297789360051668 -18.355809715767545 -4.024229751065559 -6.426245052882564 -8.88520105676136 3.5251798404805568 -1.9584844575920854 -23.329481526570163 -0.7543698944650332]\n",
        "using Nens=20\n",
        "initial application of filter"
       ]
      },
      {
       "output_type": "stream",
       "stream": "stdout",
       "text": [
        "\n",
        "initial analysis:\n",
        "[9.354797241237424 8.711772079128714 8.071681146250352 8.389629328008532 8.384578513691732 7.264444259699556 8.741763196006481 8.1285680095915 8.466563980839059 9.680916746210205 8.371321194157435 8.642286540275025 7.3873595062837705 8.880916092758135 7.040109833463212 9.34433593842428 7.440495019011912 7.613711388919823 8.866445573378957 8.70003625248036\n",
        " 5.4441997036971355 7.7582751983314004 6.217832179205787 6.463651789330171 5.302365106445798 7.451887157561188 6.2338516248161 6.036897832877431 5.805700088373066 7.381455351437856 5.948686684343663 6.689249325427987 6.568014513334671 6.106316427679997 7.443418121224552 5.801353678490582 7.725957188427874 7.121941117663503 6.978122179447525 7.30086653855513\n",
        " 27.907828912227632 27.228056769240716 27.284799086605783 27.813072961704616 27.829658134748055 26.979763400230144 27.448630304050383 27.08496396065459 28.15449093213403 27.15933943886702 27.102585029812218 27.674504276024443 26.82546315185641 28.23383178821485 27.504694920790186 26.55807347865197 27.40819899871882 27.611501229410532 27.705324118910006 27.296495328962195]\n",
        "final analysis:"
       ]
      }
     ]
    },
    {
     "cell_type": "code",
     "collapsed": false,
     "input": [
      "# sqrt(sum((truth[1,:]-forecast[1,:]).^2))\n",
      "# ens_RMSE[1] = sqrt(sum((truth[1,:]-forecast[1,:]).^2))\n",
      "# help(zeros)\n",
      "ens_RMSE"
     ],
     "language": "python",
     "metadata": {},
     "outputs": [
      {
       "metadata": {},
       "output_type": "pyout",
       "prompt_number": 28,
       "text": [
        "5x10 Array{Float64,2}:\n",
        " 100.0     100.0     100.0     100.0     \u2026  100.0     100.0     100.0   \n",
        " 100.0     100.0     100.0     100.0        100.0     100.0     100.0   \n",
        "  86.6555   75.5202  100.0      33.9336     100.0     100.0     100.0   \n",
        "  78.2891   88.5115   74.3698   61.1855      48.1094   77.2328   73.8108\n",
        " 100.0      70.7346  100.0      47.7119      85.2605   88.6959   49.5066"
       ]
      }
     ],
     "prompt_number": 28
    },
    {
     "cell_type": "code",
     "collapsed": false,
     "input": [
      "ens_RMSE[isnan(ens_RMSE)] = 70.0\n",
      "ens_RMSE[ens_RMSE .== 70.0] = 100.0\n",
      "ens_RMSE"
     ],
     "language": "python",
     "metadata": {},
     "outputs": [
      {
       "metadata": {},
       "output_type": "pyout",
       "prompt_number": 29,
       "text": [
        "5x10 Array{Float64,2}:\n",
        " 100.0     100.0     100.0     100.0     \u2026  100.0     100.0     100.0   \n",
        " 100.0     100.0     100.0     100.0        100.0     100.0     100.0   \n",
        "  86.6555   75.5202  100.0      33.9336     100.0     100.0     100.0   \n",
        "  78.2891   88.5115   74.3698   61.1855      48.1094   77.2328   73.8108\n",
        " 100.0      70.7346  100.0      47.7119      85.2605   88.6959   49.5066"
       ]
      }
     ],
     "prompt_number": 29
    },
    {
     "cell_type": "code",
     "collapsed": false,
     "input": [
      "using PyPlot"
     ],
     "language": "python",
     "metadata": {},
     "outputs": [
      {
       "output_type": "stream",
       "stream": "stderr",
       "text": [
        "INFO: Loading help data...\n"
       ]
      }
     ],
     "prompt_number": 5
    },
    {
     "cell_type": "code",
     "collapsed": false,
     "input": [
      "avg_RMSE = mean(ens_RMSE,2)\n",
      "println(avg_RMSE)\n",
      "fig = plt.figure(figsize=(5,5))\n",
      "ax = fig[:add_axes]([0.2,0.2,0.7,0.7])\n",
      "ax[:bar]((1:size(avg_RMSE)[1])+0.25,avg_RMSE,width=0.5)\n",
      "ax[:set_xticks]((1:size(avg_RMSE)[1])+0.5)\n",
      "ax[:set_xticklabels](ens_sizes)"
     ],
     "language": "python",
     "metadata": {},
     "outputs": [
      {
       "output_type": "stream",
       "stream": "stdout",
       "text": [
        "[1"
       ]
      },
      {
       "output_type": "stream",
       "stream": "stdout",
       "text": [
        "00.0\n",
        " 100.0\n",
        " 84.7855116908914\n",
        " 74.91794549860306\n",
        " 72.58590012558128]\n"
       ]
      },
      {
       "metadata": {},
       "output_type": "display_data",
       "png": "[encoded data removed]",
       "text": [
        "Figure(PyObject <matplotlib.figure.Figure object at 0x11588c690>)"
       ]
      },
      {
       "metadata": {},
       "output_type": "pyout",
       "prompt_number": 36,
       "text": [
        "5-element Array{Any,1}:\n",
        " PyObject <matplotlib.text.Text object at 0x114f75150>\n",
        " PyObject <matplotlib.text.Text object at 0x114f89650>\n",
        " PyObject <matplotlib.text.Text object at 0x10873e8d0>\n",
        " PyObject <matplotlib.text.Text object at 0x10874b050>\n",
        " PyObject <matplotlib.text.Text object at 0x10874b790>"
       ]
      }
     ],
     "prompt_number": 36
    },
    {
     "cell_type": "code",
     "collapsed": false,
     "input": [
      "plt.figure(figsize=(10,10))\n",
      "plt.plot(0:window:runtime,truth[1,:].',\"k-\")\n",
      "plt.plot(0:window:runtime,observations[1,:].',\"g*\")\n",
      "plt.plot(0:window:runtime,forecast[1,:].',\"b-\")\n",
      "plt.plot(0:window:runtime,analysis[1,:].',\"r-\")\n",
      "plt.legend([\"truth\",\"observation\",\"forecast\",\"analysis\"],loc=\"best\")"
     ],
     "language": "python",
     "metadata": {},
     "outputs": [
      {
       "metadata": {},
       "output_type": "display_data",
       "png": "[encoded data removed]",
       "text": [
        "Figure(PyObject <matplotlib.figure.Figure object at 0x108723310>)"
       ]
      },
      {
       "metadata": {},
       "output_type": "pyout",
       "prompt_number": 37,
       "text": [
        "PyObject <matplotlib.legend.Legend object at 0x116894390>"
       ]
      }
     ],
     "prompt_number": 37
    },
    {
     "cell_type": "code",
     "collapsed": false,
     "input": [
      "# let's test RMSE vs inflation\n",
      "\n",
      "# ens_sizes = [5,10,20,50,100,500]\n",
      "deltas = 0.00:0.25:2.5\n",
      "sigmas = 0.00:0.25:2.5\n",
      "# deltas = 0.00:0.05:0.5\n",
      "# sigmas = 0.00:0.05:0.5\n",
      "n_trials = 1\n",
      "# n_trials = 10\n",
      "ens_RMSE = zeros(Float64,(size(deltas)[1],size(sigmas)[1],n_trials))\n",
      "\n",
      "println(\"testing vs ensemble size\")\n",
      "\n",
      "window = 0.1\n",
      "runtime = 20.0\n",
      "\n",
      "l = Lorenz63()\n",
      "l.window = window\n",
      "l.x = randn(3)*10.0\n",
      "# get it to some model state\n",
      "for i=1:100\n",
      "   run(l)\n",
      "end\n",
      "\n",
      "# make a truth run\n",
      "truth = zeros(length(l.x),int(runtime/window)+1)\n",
      "truth[:,1] = l.x\n",
      "for i=1:int(runtime/window)\n",
      "    run(l)\n",
      "    truth[:,i+1] = l.x\n",
      "end\n",
      "\n",
      "# perturb that with uniform noise\n",
      "stddev = .5\n",
      "observations = truth+randn(size(truth))*stddev\n",
      "\n",
      "# now try to predict it\n",
      "l.t = 0.0\n",
      "\n",
      "Nens = 5\n",
      "for delta_i=1:size(deltas)[1]\n",
      "    for sigma_i=1:size(sigmas)[1]\n",
      "        delta = deltas[delta_i]\n",
      "        sigma = sigmas[sigma_i]\n",
      "        println(\"delta=$(delta),sigma=$(sigma)\")\n",
      "    for trial=1:n_trials\n",
      "    # println(\"using Nens=$(Nens)\")\n",
      "    ens = Array(Lorenz63,Nens)\n",
      "    for i=1:Nens\n",
      "        # println(\"initializing ensemble $(i)\")\n",
      "        ens[i] = Lorenz63()\n",
      "        ens[i].x = randn(3)*10.0\n",
      "        for j=1:10\n",
      "            run(ens[i])\n",
      "        end\n",
      "        ens[i].t = 0.0\n",
      "        ens[i].window = window\n",
      "    end\n",
      "\n",
      "    forecast = zeros(truth)\n",
      "    analysis = zeros(truth)\n",
      "    X_f = zeros(3,Nens)\n",
      "    for i=1:Nens\n",
      "        X_f[:,i] = ens[i].x\n",
      "    end\n",
      "    forecast[:,1] = mean(X_f,2)\n",
      "    # println(\"initial application of filter\")\n",
      "    X_a = EnKF(X_f,observations[:,1],eye(3),eye(3).*stddev,delta)\n",
      "    # X_a = ETKF(X_f,observations[:,1],eye(3),eye(3).*stddev,delta)\n",
      "    # println(\"initial analysis:\")\n",
      "    # println(X_a)\n",
      "    analysis[:,1] = mean(X_a,2)\n",
      "    for i=1:Nens\n",
      "        ens[i].x = X_a[:,i]+randn(3)*sigma\n",
      "    end\n",
      "\n",
      "    for j=1:int(runtime/window)\n",
      "        # println(\"time is $(j*window)\")\n",
      "        for i=1:Nens\n",
      "            run(ens[i])\n",
      "        end\n",
      "        for i=1:Nens\n",
      "            X_f[:,i] = ens[i].x\n",
      "        end\n",
      "        forecast[:,j+1] = mean(X_f,2)\n",
      "        X_a = EnKF(X_f,observations[:,j+1],eye(3),eye(3).*stddev,delta)\n",
      "        # X_a = ETKF(X_f,observations[:,j+1],eye(3),eye(3).*stddev,delta)\n",
      "        analysis[:,j+1] = mean(X_a,2)\n",
      "        for i=1:Nens\n",
      "            ens[i].x = X_a[:,i]+randn(3)*sigma\n",
      "        end\n",
      "    end\n",
      "    # println(\"final analysis:\")\n",
      "    # println(X_a)\n",
      "    # println(ens_i)\n",
      "    # println(rmse(truth[1,:],forecast[1,:]))\n",
      "    # ens_RMSE[ens_i] = rmse(truth[1,:],forecast[1,:])\n",
      "            ens_RMSE[delta_i,sigma_i,trial] = sqrt(sum((truth[1,:]-forecast[1,:]).^2))\n",
      "        end\n",
      "    end\n",
      "end"
     ],
     "language": "python",
     "metadata": {},
     "outputs": [
      {
       "output_type": "stream",
       "stream": "stdout",
       "text": [
        "testing vs ensemble size\n"
       ]
      },
      {
       "output_type": "stream",
       "stream": "stdout",
       "text": [
        "delta=0.0,sigma=0.0"
       ]
      },
      {
       "output_type": "stream",
       "stream": "stdout",
       "text": [
        "\n",
        "delta=0.0,sigma=0.25"
       ]
      },
      {
       "output_type": "stream",
       "stream": "stdout",
       "text": [
        "\n",
        "delta=0.0,sigma=0.5"
       ]
      },
      {
       "output_type": "stream",
       "stream": "stdout",
       "text": [
        "\n",
        "delta=0.0,sigma=0.75"
       ]
      },
      {
       "output_type": "stream",
       "stream": "stdout",
       "text": [
        "\n",
        "delta=0.0,sigma=1.0"
       ]
      },
      {
       "output_type": "stream",
       "stream": "stdout",
       "text": [
        "\n",
        "delta=0.0,sigma=1.25"
       ]
      },
      {
       "output_type": "stream",
       "stream": "stdout",
       "text": [
        "\n",
        "delta=0.0,sigma=1.5"
       ]
      },
      {
       "output_type": "stream",
       "stream": "stdout",
       "text": [
        "\n",
        "delta=0.0,sigma=1.75"
       ]
      },
      {
       "output_type": "stream",
       "stream": "stdout",
       "text": [
        "\n",
        "delta=0.0,sigma=2.0"
       ]
      },
      {
       "output_type": "stream",
       "stream": "stdout",
       "text": [
        "\n",
        "delta=0.0,sigma=2.25"
       ]
      },
      {
       "output_type": "stream",
       "stream": "stdout",
       "text": [
        "\n",
        "delta=0.0,sigma=2.5"
       ]
      },
      {
       "output_type": "stream",
       "stream": "stdout",
       "text": [
        "\n",
        "delta=0.25,sigma=0.0"
       ]
      },
      {
       "output_type": "stream",
       "stream": "stdout",
       "text": [
        "\n",
        "delta=0.25,sigma=0.25"
       ]
      },
      {
       "output_type": "stream",
       "stream": "stdout",
       "text": [
        "\n",
        "delta=0.25,sigma=0.5"
       ]
      },
      {
       "output_type": "stream",
       "stream": "stdout",
       "text": [
        "\n",
        "delta=0.25,sigma=0.75"
       ]
      },
      {
       "output_type": "stream",
       "stream": "stdout",
       "text": [
        "\n",
        "delta=0.25,sigma=1.0"
       ]
      },
      {
       "output_type": "stream",
       "stream": "stdout",
       "text": [
        "\n",
        "delta=0.25,sigma=1.25"
       ]
      },
      {
       "output_type": "stream",
       "stream": "stdout",
       "text": [
        "\n",
        "delta=0.25,sigma=1.5"
       ]
      },
      {
       "output_type": "stream",
       "stream": "stdout",
       "text": [
        "\n",
        "delta=0.25,sigma=1.75"
       ]
      },
      {
       "output_type": "stream",
       "stream": "stdout",
       "text": [
        "\n",
        "delta=0.25,sigma=2.0"
       ]
      },
      {
       "output_type": "stream",
       "stream": "stdout",
       "text": [
        "\n",
        "delta=0.25,sigma=2.25"
       ]
      },
      {
       "output_type": "stream",
       "stream": "stdout",
       "text": [
        "\n",
        "delta=0.25,sigma=2.5"
       ]
      },
      {
       "output_type": "stream",
       "stream": "stdout",
       "text": [
        "\n",
        "delta=0.5,sigma=0.0"
       ]
      },
      {
       "output_type": "stream",
       "stream": "stdout",
       "text": [
        "\n",
        "delta=0.5,sigma=0.25"
       ]
      },
      {
       "output_type": "stream",
       "stream": "stdout",
       "text": [
        "\n",
        "delta=0.5,sigma=0.5"
       ]
      },
      {
       "output_type": "stream",
       "stream": "stdout",
       "text": [
        "\n",
        "delta=0.5,sigma=0.75"
       ]
      },
      {
       "output_type": "stream",
       "stream": "stdout",
       "text": [
        "\n",
        "delta=0.5,sigma=1.0"
       ]
      },
      {
       "output_type": "stream",
       "stream": "stdout",
       "text": [
        "\n",
        "delta=0.5,sigma=1.25"
       ]
      },
      {
       "output_type": "stream",
       "stream": "stdout",
       "text": [
        "\n",
        "delta=0.5,sigma=1.5"
       ]
      },
      {
       "output_type": "stream",
       "stream": "stdout",
       "text": [
        "\n",
        "delta=0.5,sigma=1.75"
       ]
      },
      {
       "output_type": "stream",
       "stream": "stdout",
       "text": [
        "\n",
        "delta=0.5,sigma=2.0"
       ]
      },
      {
       "output_type": "stream",
       "stream": "stdout",
       "text": [
        "\n",
        "delta=0.5,sigma=2.25"
       ]
      },
      {
       "output_type": "stream",
       "stream": "stdout",
       "text": [
        "\n",
        "delta=0.5,sigma=2.5"
       ]
      },
      {
       "output_type": "stream",
       "stream": "stdout",
       "text": [
        "\n",
        "delta=0.75,sigma=0.0"
       ]
      },
      {
       "output_type": "stream",
       "stream": "stdout",
       "text": [
        "\n",
        "delta=0.75,sigma=0.25"
       ]
      },
      {
       "output_type": "stream",
       "stream": "stdout",
       "text": [
        "\n",
        "delta=0.75,sigma=0.5"
       ]
      },
      {
       "output_type": "stream",
       "stream": "stdout",
       "text": [
        "\n",
        "delta=0.75,sigma=0.75"
       ]
      },
      {
       "output_type": "stream",
       "stream": "stdout",
       "text": [
        "\n",
        "delta=0.75,sigma=1.0"
       ]
      },
      {
       "output_type": "stream",
       "stream": "stdout",
       "text": [
        "\n",
        "delta=0.75,sigma=1.25"
       ]
      },
      {
       "output_type": "stream",
       "stream": "stdout",
       "text": [
        "\n",
        "delta=0.75,sigma=1.5"
       ]
      },
      {
       "output_type": "stream",
       "stream": "stdout",
       "text": [
        "\n",
        "delta=0.75,sigma=1.75"
       ]
      },
      {
       "output_type": "stream",
       "stream": "stdout",
       "text": [
        "\n",
        "delta=0.75,sigma=2.0"
       ]
      },
      {
       "output_type": "stream",
       "stream": "stdout",
       "text": [
        "\n",
        "delta=0.75,sigma=2.25"
       ]
      },
      {
       "output_type": "stream",
       "stream": "stdout",
       "text": [
        "\n",
        "delta=0.75,sigma=2.5"
       ]
      },
      {
       "output_type": "stream",
       "stream": "stdout",
       "text": [
        "\n",
        "delta=1.0,sigma=0.0"
       ]
      },
      {
       "output_type": "stream",
       "stream": "stdout",
       "text": [
        "\n",
        "delta=1.0,sigma=0.25"
       ]
      },
      {
       "output_type": "stream",
       "stream": "stdout",
       "text": [
        "\n",
        "delta=1.0,sigma=0.5"
       ]
      },
      {
       "output_type": "stream",
       "stream": "stdout",
       "text": [
        "\n",
        "delta=1.0,sigma=0.75"
       ]
      },
      {
       "output_type": "stream",
       "stream": "stdout",
       "text": [
        "\n",
        "delta=1.0,sigma=1.0"
       ]
      },
      {
       "output_type": "stream",
       "stream": "stdout",
       "text": [
        "\n",
        "delta=1.0,sigma=1.25"
       ]
      },
      {
       "output_type": "stream",
       "stream": "stdout",
       "text": [
        "\n",
        "delta=1.0,sigma=1.5"
       ]
      },
      {
       "output_type": "stream",
       "stream": "stdout",
       "text": [
        "\n",
        "delta=1.0,sigma=1.75"
       ]
      },
      {
       "output_type": "stream",
       "stream": "stdout",
       "text": [
        "\n",
        "delta=1.0,sigma=2.0"
       ]
      },
      {
       "output_type": "stream",
       "stream": "stdout",
       "text": [
        "\n",
        "delta=1.0,sigma=2.25"
       ]
      },
      {
       "output_type": "stream",
       "stream": "stdout",
       "text": [
        "\n",
        "delta=1.0,sigma=2.5"
       ]
      },
      {
       "output_type": "stream",
       "stream": "stdout",
       "text": [
        "\n",
        "delta=1.25,sigma=0.0"
       ]
      },
      {
       "output_type": "stream",
       "stream": "stdout",
       "text": [
        "\n",
        "delta=1.25,sigma=0.25"
       ]
      },
      {
       "output_type": "stream",
       "stream": "stdout",
       "text": [
        "\n",
        "delta=1.25,sigma=0.5"
       ]
      },
      {
       "output_type": "stream",
       "stream": "stdout",
       "text": [
        "\n",
        "delta=1.25,sigma=0.75"
       ]
      },
      {
       "output_type": "stream",
       "stream": "stdout",
       "text": [
        "\n",
        "delta=1.25,sigma=1.0"
       ]
      },
      {
       "output_type": "stream",
       "stream": "stdout",
       "text": [
        "\n",
        "delta=1.25,sigma=1.25"
       ]
      },
      {
       "output_type": "stream",
       "stream": "stdout",
       "text": [
        "\n",
        "delta=1.25,sigma=1.5"
       ]
      },
      {
       "output_type": "stream",
       "stream": "stdout",
       "text": [
        "\n",
        "delta=1.25,sigma=1.75"
       ]
      },
      {
       "output_type": "stream",
       "stream": "stdout",
       "text": [
        "\n",
        "delta=1.25,sigma=2.0"
       ]
      },
      {
       "output_type": "stream",
       "stream": "stdout",
       "text": [
        "\n",
        "delta=1.25,sigma=2.25"
       ]
      },
      {
       "output_type": "stream",
       "stream": "stdout",
       "text": [
        "\n",
        "delta=1.25,sigma=2.5"
       ]
      },
      {
       "output_type": "stream",
       "stream": "stdout",
       "text": [
        "\n",
        "delta=1.5,sigma=0.0"
       ]
      },
      {
       "output_type": "stream",
       "stream": "stdout",
       "text": [
        "\n",
        "delta=1.5,sigma=0.25"
       ]
      },
      {
       "output_type": "stream",
       "stream": "stdout",
       "text": [
        "\n",
        "delta=1.5,sigma=0.5"
       ]
      },
      {
       "output_type": "stream",
       "stream": "stdout",
       "text": [
        "\n",
        "delta=1.5,sigma=0.75"
       ]
      },
      {
       "output_type": "stream",
       "stream": "stdout",
       "text": [
        "\n",
        "delta=1.5,sigma=1.0"
       ]
      },
      {
       "output_type": "stream",
       "stream": "stdout",
       "text": [
        "\n",
        "delta=1.5,sigma=1.25"
       ]
      },
      {
       "output_type": "stream",
       "stream": "stdout",
       "text": [
        "\n",
        "delta=1.5,sigma=1.5"
       ]
      },
      {
       "output_type": "stream",
       "stream": "stdout",
       "text": [
        "\n",
        "delta=1.5,sigma=1.75"
       ]
      },
      {
       "output_type": "stream",
       "stream": "stdout",
       "text": [
        "\n",
        "delta=1.5,sigma=2.0"
       ]
      },
      {
       "output_type": "stream",
       "stream": "stdout",
       "text": [
        "\n",
        "delta=1.5,sigma=2.25"
       ]
      },
      {
       "output_type": "stream",
       "stream": "stdout",
       "text": [
        "\n",
        "delta=1.5,sigma=2.5"
       ]
      },
      {
       "output_type": "stream",
       "stream": "stdout",
       "text": [
        "\n",
        "delta=1.75,sigma=0.0"
       ]
      },
      {
       "output_type": "stream",
       "stream": "stdout",
       "text": [
        "\n",
        "delta=1.75,sigma=0.25"
       ]
      },
      {
       "output_type": "stream",
       "stream": "stdout",
       "text": [
        "\n",
        "delta=1.75,sigma=0.5"
       ]
      },
      {
       "output_type": "stream",
       "stream": "stdout",
       "text": [
        "\n",
        "delta=1.75,sigma=0.75"
       ]
      },
      {
       "output_type": "stream",
       "stream": "stdout",
       "text": [
        "\n",
        "delta=1.75,sigma=1.0"
       ]
      },
      {
       "output_type": "stream",
       "stream": "stdout",
       "text": [
        "\n",
        "delta=1.75,sigma=1.25"
       ]
      },
      {
       "output_type": "stream",
       "stream": "stdout",
       "text": [
        "\n",
        "delta=1.75,sigma=1.5"
       ]
      },
      {
       "output_type": "stream",
       "stream": "stdout",
       "text": [
        "\n",
        "delta=1.75,sigma=1.75"
       ]
      },
      {
       "output_type": "stream",
       "stream": "stdout",
       "text": [
        "\n",
        "delta=1.75,sigma=2.0"
       ]
      },
      {
       "output_type": "stream",
       "stream": "stdout",
       "text": [
        "\n",
        "delta=1.75,sigma=2.25"
       ]
      },
      {
       "output_type": "stream",
       "stream": "stdout",
       "text": [
        "\n",
        "delta=1.75,sigma=2.5"
       ]
      },
      {
       "output_type": "stream",
       "stream": "stdout",
       "text": [
        "\n",
        "delta=2.0,sigma=0.0"
       ]
      },
      {
       "output_type": "stream",
       "stream": "stdout",
       "text": [
        "\n",
        "delta=2.0,sigma=0.25"
       ]
      },
      {
       "output_type": "stream",
       "stream": "stdout",
       "text": [
        "\n",
        "delta=2.0,sigma=0.5"
       ]
      },
      {
       "output_type": "stream",
       "stream": "stdout",
       "text": [
        "\n",
        "delta=2.0,sigma=0.75"
       ]
      },
      {
       "output_type": "stream",
       "stream": "stdout",
       "text": [
        "\n",
        "delta=2.0,sigma=1.0"
       ]
      },
      {
       "output_type": "stream",
       "stream": "stdout",
       "text": [
        "\n",
        "delta=2.0,sigma=1.25"
       ]
      },
      {
       "output_type": "stream",
       "stream": "stdout",
       "text": [
        "\n",
        "delta=2.0,sigma=1.5"
       ]
      },
      {
       "output_type": "stream",
       "stream": "stdout",
       "text": [
        "\n",
        "delta=2.0,sigma=1.75"
       ]
      },
      {
       "output_type": "stream",
       "stream": "stdout",
       "text": [
        "\n",
        "delta=2.0,sigma=2.0"
       ]
      },
      {
       "output_type": "stream",
       "stream": "stdout",
       "text": [
        "\n",
        "delta=2.0,sigma=2.25"
       ]
      },
      {
       "output_type": "stream",
       "stream": "stdout",
       "text": [
        "\n",
        "delta=2.0,sigma=2.5"
       ]
      },
      {
       "output_type": "stream",
       "stream": "stdout",
       "text": [
        "\n",
        "delta=2.25,sigma=0.0"
       ]
      },
      {
       "output_type": "stream",
       "stream": "stdout",
       "text": [
        "\n",
        "delta=2.25,sigma=0.25"
       ]
      },
      {
       "output_type": "stream",
       "stream": "stdout",
       "text": [
        "\n",
        "delta=2.25,sigma=0.5"
       ]
      },
      {
       "output_type": "stream",
       "stream": "stdout",
       "text": [
        "\n",
        "delta=2.25,sigma=0.75"
       ]
      },
      {
       "output_type": "stream",
       "stream": "stdout",
       "text": [
        "\n",
        "delta=2.25,sigma=1.0"
       ]
      },
      {
       "output_type": "stream",
       "stream": "stdout",
       "text": [
        "\n",
        "delta=2.25,sigma=1.25"
       ]
      },
      {
       "output_type": "stream",
       "stream": "stdout",
       "text": [
        "\n",
        "delta=2.25,sigma=1.5"
       ]
      },
      {
       "output_type": "stream",
       "stream": "stdout",
       "text": [
        "\n",
        "delta=2.25,sigma=1.75"
       ]
      },
      {
       "output_type": "stream",
       "stream": "stdout",
       "text": [
        "\n",
        "delta=2.25,sigma=2.0"
       ]
      },
      {
       "output_type": "stream",
       "stream": "stdout",
       "text": [
        "\n",
        "delta=2.25,sigma=2.25"
       ]
      },
      {
       "output_type": "stream",
       "stream": "stdout",
       "text": [
        "\n",
        "delta=2.25,sigma=2.5"
       ]
      },
      {
       "output_type": "stream",
       "stream": "stdout",
       "text": [
        "\n",
        "delta=2.5,sigma=0.0"
       ]
      },
      {
       "output_type": "stream",
       "stream": "stdout",
       "text": [
        "\n",
        "delta=2.5,sigma=0.25"
       ]
      },
      {
       "output_type": "stream",
       "stream": "stdout",
       "text": [
        "\n",
        "delta=2.5,sigma=0.5"
       ]
      },
      {
       "output_type": "stream",
       "stream": "stdout",
       "text": [
        "\n",
        "delta=2.5,sigma=0.75"
       ]
      },
      {
       "output_type": "stream",
       "stream": "stdout",
       "text": [
        "\n",
        "delta=2.5,sigma=1.0"
       ]
      },
      {
       "output_type": "stream",
       "stream": "stdout",
       "text": [
        "\n",
        "delta=2.5,sigma=1.25"
       ]
      },
      {
       "output_type": "stream",
       "stream": "stdout",
       "text": [
        "\n",
        "delta=2.5,sigma=1.5"
       ]
      },
      {
       "output_type": "stream",
       "stream": "stdout",
       "text": [
        "\n",
        "delta=2.5,sigma=1.75"
       ]
      },
      {
       "output_type": "stream",
       "stream": "stdout",
       "text": [
        "\n",
        "delta=2.5,sigma=2.0"
       ]
      },
      {
       "output_type": "stream",
       "stream": "stdout",
       "text": [
        "\n",
        "delta=2.5,sigma=2.25"
       ]
      },
      {
       "output_type": "stream",
       "stream": "stdout",
       "text": [
        "\n",
        "delta=2.5,sigma=2.5"
       ]
      },
      {
       "output_type": "stream",
       "stream": "stdout",
       "text": [
        "\n"
       ]
      }
     ],
     "prompt_number": 14
    },
    {
     "cell_type": "code",
     "collapsed": false,
     "input": [
      "using PyPlot"
     ],
     "language": "python",
     "metadata": {},
     "outputs": []
    },
    {
     "cell_type": "code",
     "collapsed": false,
     "input": [
      "println(ens_RMSE)\n",
      "plt.imshow(ens_RMSE[:,:,1],origin=\"lower\",aspect=\"equal\",alpha=1,interpolation=\"nearest\")\n",
      "plt.colorbar()\n",
      "plt.savefig(\"RMSE-withnoise-1trial-widerer.svg\")"
     ],
     "language": "python",
     "metadata": {},
     "outputs": [
      {
       "output_type": "stream",
       "stream": "stdout",
       "text": [
        "[NaN"
       ]
      },
      {
       "output_type": "stream",
       "stream": "stdout",
       "text": [
        " NaN NaN NaN NaN NaN NaN NaN NaN NaN NaN\n",
        " NaN NaN NaN NaN NaN NaN NaN NaN NaN NaN NaN\n",
        " NaN NaN NaN NaN NaN NaN NaN NaN NaN NaN NaN\n",
        " NaN NaN NaN NaN NaN NaN NaN NaN NaN NaN NaN\n",
        " NaN NaN NaN NaN NaN NaN NaN NaN NaN 85.54264503577906 NaN\n",
        " NaN NaN NaN NaN NaN NaN NaN NaN NaN 74.80396621838567 NaN\n",
        " NaN NaN NaN NaN NaN NaN NaN NaN NaN 53.71197509052826 39.53494631871457\n",
        " NaN NaN NaN NaN NaN NaN NaN 94.94908562989943 NaN NaN NaN\n",
        " NaN NaN NaN 76.41452229080343 NaN NaN 95.42846040865538 NaN NaN 64.39371582963973 84.94302691540625\n",
        " NaN NaN NaN NaN NaN NaN 63.84042076355735 NaN NaN NaN NaN\n",
        " NaN NaN NaN NaN NaN NaN NaN NaN NaN NaN 70.7098318287854]\n"
       ]
      },
      {
       "metadata": {},
       "output_type": "display_data",
       "png": "[encoded data removed]",
       "text": [
        "Figure(PyObject <matplotlib.figure.Figure object at 0x113bac5d0>)"
       ]
      }
     ],
     "prompt_number": 15
    },
    {
     "cell_type": "code",
     "collapsed": false,
     "input": [],
     "language": "python",
     "metadata": {},
     "outputs": []
    }
   ],
   "metadata": {}
  }
 ]
}