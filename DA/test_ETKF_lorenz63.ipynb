{
 "metadata": {
  "language": "Julia",
  "name": "",
  "signature": "sha256:0206817e776aeb7480081c2f902ac8fe0a9338279f37d1cc62179a6be2e8d318"
 },
 "nbformat": 3,
 "nbformat_minor": 0,
 "worksheets": [
  {
   "cells": [
    {
     "cell_type": "code",
     "collapsed": false,
     "input": [
      "include(\"DA.jl\")\n",
      "using DA\n",
      "using PyPlot\n"
     ],
     "language": "python",
     "metadata": {},
     "outputs": [
      {
       "output_type": "stream",
       "stream": "stderr",
       "text": [
        "INFO: Loading help data...\n"
       ]
      }
     ],
     "prompt_number": 2
    },
    {
     "cell_type": "code",
     "collapsed": false,
     "input": [
      "include(\"../foamLia.jl\")\n",
      "using foamLia"
     ],
     "language": "python",
     "metadata": {},
     "outputs": [],
     "prompt_number": 3
    },
    {
     "cell_type": "code",
     "collapsed": false,
     "input": [
      "# some samples\n",
      "A = repmat([1,2,3],1,10)+.1*randn(3,10)\n",
      "X_f = A\n",
      "y_0 = [1.5,2.1,3.01]\n",
      "H = eye(3)\n",
      "R = .05.*eye(3)\n",
      "delta = .01\n",
      "\n",
      "# give it a shot\n",
      "X_a = ETKF(X_f,y_0,H,R,delta)\n",
      "\n",
      "println(\"quick test result:\")\n",
      "println(X_a)\n",
      "\n",
      "println(\"beginning real test\")\n",
      "l = Lorenz63()\n",
      "window = .05\n",
      "runtime = 10.0\n",
      "l.window = window\n",
      "l.x = randn(3)*10.0\n",
      "# get it to some model state\n",
      "for i=1:100\n",
      "   run(l)\n",
      "end\n",
      "\n",
      "# make a truth run\n",
      "truth = zeros(length(l.x),int(runtime/window)+1)\n",
      "truth[:,1] = l.x\n",
      "for i=1:int(runtime/window)\n",
      "    run(l)\n",
      "    truth[:,i+1] = l.x\n",
      "end\n",
      "\n",
      "# perturb that with uniform noise\n",
      "stddev = .5\n",
      "observations = truth+randn(size(truth))*stddev\n",
      "\n",
      "# now try to predict it\n",
      "l.t = 0.0\n",
      "\n",
      "# this fills with the same model\n",
      "delta = 0.1\n",
      "sigma = 0.1\n",
      "Nens = 20\n",
      "ens = Array(Lorenz63,Nens)\n",
      "for i=1:Nens\n",
      "    println(\"initializing ensemble $(i)\")\n",
      "    ens[i] = Lorenz63()\n",
      "    ens[i].x = randn(3)*10.0\n",
      "    for j=1:10\n",
      "        run(ens[i])\n",
      "    end\n",
      "    ens[i].t = 0.0\n",
      "    ens[i].window = window\n",
      "end\n",
      "\n",
      "forecast = zeros(truth)\n",
      "analysis = zeros(truth)\n",
      "X_f = zeros(3,Nens)\n",
      "for i=1:Nens\n",
      "    X_f[:,i] = ens[i].x\n",
      "end\n",
      "forecast[:,1] = mean(X_f,2)\n",
      "println(\"initial application of filter\")\n",
      "X_a = ETKF(X_f,observations[:,1],eye(3),eye(3).*stddev,delta)\n",
      "println(\"initial analysis:\")\n",
      "println(X_a)\n",
      "analysis[:,1] = mean(X_a,2)\n",
      "for i=1:Nens\n",
      "    ens[i].x = X_a[:,i]+randn(3)*sigma\n",
      "end\n",
      "\n",
      "for j=1:int(runtime/window)\n",
      "    # println(\"time is $(j*window)\")\n",
      "    for i=1:Nens\n",
      "        run(ens[i])\n",
      "    end\n",
      "    for i=1:Nens\n",
      "        X_f[:,i] = ens[i].x\n",
      "    end\n",
      "    forecast[:,j+1] = mean(X_f,2)+(rand(3,1)*5-2.5)\n",
      "    X_a = ETKF(X_f,observations[:,j+1],eye(3),eye(3).*stddev,delta)\n",
      "    analysis[:,j+1] = mean(X_a,2)\n",
      "    for i=1:Nens\n",
      "        ens[i].x = X_a[:,i]+randn(3)*sigma\n",
      "    end\n",
      "end\n",
      "\n",
      "# println(truth[:,1])\n",
      "# println(observations[:,1])\n",
      "# println(forecast[:,1])\n",
      "# println(analysis[:,1])\n",
      "\n",
      "# println(truth[:,end])\n",
      "# println(observations[:,end])\n",
      "# println(forecast[:,end])\n",
      "# println(analysis[:,end])\n",
      "\n",
      "# println(\"here are each of the ensembles:\")\n",
      "# for i=1:Nens\n",
      "#     println(ens[i].x)\n",
      "# end\n",
      "\n",
      "fig = plt.figure(figsize=(7,5))\n",
      "ax = fig[:add_axes]([0.2,0.2,0.7,0.7])\n",
      "ax[:plot](0:window:runtime,truth[1,:].',\"k-\")\n",
      "ax[:plot](0:window:runtime,observations[1,:].',\"g*\")\n",
      "ax[:plot](0:window:runtime,forecast[1,:].',\"b-\")\n",
      "ax[:plot](0:window:runtime,analysis[1,:].',\"r-\")\n",
      "ax[:set_ylabel](\"Total Flux\")\n",
      "ax[:set_xlabel](\"Time\")\n",
      "# ax[:yticklabels]\n",
      "plt.legend([\"truth\",\"observation\",\"forecast\",\"analysis\"],loc=\"best\")\n",
      "plt.savefig(\"twin-model-result.png\")"
     ],
     "language": "python",
     "metadata": {},
     "outputs": [
      {
       "output_type": "stream",
       "stream": "stdout",
       "text": [
        "quick test result:\n"
       ]
      },
      {
       "output_type": "stream",
       "stream": "stdout",
       "text": [
        "[0.9554006528664736 0.9165228100708562 0.929004197599445 1.0198743690296657 1.1087792314774505 1.0439991527005685 1.1552573607343155 1.1201243237429446 1.0533889347276613 1.0382689518049097\n",
        " 2.2424390282909856 1.7612690371976323 2.073786660588679 2.1556786049988195 1.7901377351775563 2.0351098831024714 2.0098745494758616 1.9462228132207797 2.0537132502197184 1.998543252874483\n",
        " 2.9512829188271854 3.1157243745115717 2.988281635492599 3.036928216458897 2.9340203429619747 2.7724358467846 2.9069903612266086 2.805395032435645 2.9167068190920196 3.1314167486027475]\n",
        "beginning real test\n",
        "initializing ensemble 1\n",
        "initializing ensemble 2"
       ]
      },
      {
       "output_type": "stream",
       "stream": "stdout",
       "text": [
        "\n",
        "initializing ensemble 3"
       ]
      },
      {
       "output_type": "stream",
       "stream": "stdout",
       "text": [
        "\n",
        "initializing ensemble 4"
       ]
      },
      {
       "output_type": "stream",
       "stream": "stdout",
       "text": [
        "\n",
        "initializing ensemble 5"
       ]
      },
      {
       "output_type": "stream",
       "stream": "stdout",
       "text": [
        "\n",
        "initializing ensemble 6"
       ]
      },
      {
       "output_type": "stream",
       "stream": "stdout",
       "text": [
        "\n",
        "initializing ensemble 7"
       ]
      },
      {
       "output_type": "stream",
       "stream": "stdout",
       "text": [
        "\n",
        "initializing ensemble 8"
       ]
      },
      {
       "output_type": "stream",
       "stream": "stdout",
       "text": [
        "\n",
        "initializing ensemble 9"
       ]
      },
      {
       "output_type": "stream",
       "stream": "stdout",
       "text": [
        "\n",
        "initializing ensemble 10"
       ]
      },
      {
       "output_type": "stream",
       "stream": "stdout",
       "text": [
        "\n",
        "initializing ensemble 11"
       ]
      },
      {
       "output_type": "stream",
       "stream": "stdout",
       "text": [
        "\n",
        "initializing ensemble 12"
       ]
      },
      {
       "output_type": "stream",
       "stream": "stdout",
       "text": [
        "\n",
        "initializing ensemble 13"
       ]
      },
      {
       "output_type": "stream",
       "stream": "stdout",
       "text": [
        "\n",
        "initializing ensemble 14"
       ]
      },
      {
       "output_type": "stream",
       "stream": "stdout",
       "text": [
        "\n",
        "initializing ensemble 15"
       ]
      },
      {
       "output_type": "stream",
       "stream": "stdout",
       "text": [
        "\n",
        "initializing ensemble 16"
       ]
      },
      {
       "output_type": "stream",
       "stream": "stdout",
       "text": [
        "\n",
        "initializing ensemble 17"
       ]
      },
      {
       "output_type": "stream",
       "stream": "stdout",
       "text": [
        "\n",
        "initializing ensemble 18"
       ]
      },
      {
       "output_type": "stream",
       "stream": "stdout",
       "text": [
        "\n",
        "initializing ensemble 19"
       ]
      },
      {
       "output_type": "stream",
       "stream": "stdout",
       "text": [
        "\n",
        "initializing ensemble 20"
       ]
      },
      {
       "output_type": "stream",
       "stream": "stdout",
       "text": [
        "\n",
        "initial application of filter"
       ]
      },
      {
       "output_type": "stream",
       "stream": "stdout",
       "text": [
        "\n",
        "initial analysis:\n",
        "[1.921808650189191 7.0345611386022435 1.113316305114905 -5.091502763130797 15.348370065452904 5.887495138187699 18.009480690709747 16.053887898089236 16.4116725598068 -11.310894573606486 3.7260343214107925 -10.009838151663416 -6.417103594554688 0.29036935294459054 -0.4176290437037933 -2.679053963921098 -7.486791782751113 15.000501782478526 10.820934728841674 8.9257945506474\n",
        " 4.989866801941025 0.32136020779142305 -2.194179847649687 -9.548259116472341 5.257216950408372 1.740531214922243 24.483722286420555 15.852881385384974 11.80486174521821 -12.269172949389038 3.75108579376983 -16.11179219100935 -10.875870417811287 0.6088173761913187 -0.10313879701244888 1.1923327103668755 -12.31176890016599 19.567679587203656 15.725842235480885 10.753991100731009\n",
        " 20.789272965097744 25.370357292350224 19.402577674509832 15.335133170744285 35.10583219551404 21.899438028176938 22.132583557975593 27.453884941973104 32.160881501441224 29.64808757372063 2.795134372824691 21.15691503821265 17.46779212965619 17.13001576358818 17.84148160445251 24.65930239712355 18.775315332267503 19.564710486906492 10.235427465474581 14.344471485173369]\n"
       ]
      },
      {
       "metadata": {},
       "output_type": "display_data",
       "png": "[encoded data removed]",
       "text": [
        "Figure(PyObject <matplotlib.figure.Figure object at 0x111f460d0>)"
       ]
      }
     ],
     "prompt_number": 10
    },
    {
     "cell_type": "code",
     "collapsed": false,
     "input": [
      "sqrt(sum((truth[1,50:end]-forecast[1,50:end]).^2))"
     ],
     "language": "python",
     "metadata": {},
     "outputs": [
      {
       "metadata": {},
       "output_type": "pyout",
       "prompt_number": 11,
       "text": [
        "23.945163878921164"
       ]
      }
     ],
     "prompt_number": 11
    },
    {
     "cell_type": "code",
     "collapsed": false,
     "input": [
      "# let's test RMSE vs inflation\n",
      "\n",
      "# ens_sizes = [5,10,20,50,100,500]\n",
      "deltas = 0.00:0.25:2.5\n",
      "sigmas = 0.00:0.25:2.5\n",
      "# deltas = 0.00:0.05:0.5\n",
      "# sigmas = 0.00:0.05:0.5\n",
      "n_trials = 1\n",
      "# n_trials = 10\n",
      "ens_RMSE = zeros(Float64,(size(deltas)[1],size(sigmas)[1],n_trials))\n",
      "\n",
      "println(\"testing vs ensemble size\")\n",
      "\n",
      "window = 0.1\n",
      "runtime = 20.0\n",
      "\n",
      "l = Lorenz63()\n",
      "l.window = window\n",
      "l.x = randn(3)*10.0\n",
      "# get it to some model state\n",
      "for i=1:100\n",
      "   run(l)\n",
      "end\n",
      "\n",
      "# make a truth run\n",
      "truth = zeros(length(l.x),int(runtime/window)+1)\n",
      "truth[:,1] = l.x\n",
      "for i=1:int(runtime/window)\n",
      "    run(l)\n",
      "    truth[:,i+1] = l.x\n",
      "end\n",
      "\n",
      "# perturb that with uniform noise\n",
      "stddev = .5\n",
      "observations = truth+randn(size(truth))*stddev\n",
      "\n",
      "# now try to predict it\n",
      "l.t = 0.0\n",
      "\n",
      "Nens = 20\n",
      "for delta_i=1:size(deltas)[1]\n",
      "    for sigma_i=1:size(sigmas)[1]\n",
      "        delta = deltas[delta_i]\n",
      "        sigma = sigmas[sigma_i]\n",
      "        println(\"delta=$(delta),sigma=$(sigma)\")\n",
      "    for trial=1:n_trials\n",
      "    # println(\"using Nens=$(Nens)\")\n",
      "    ens = Array(Lorenz63,Nens)\n",
      "    for i=1:Nens\n",
      "        # println(\"initializing ensemble $(i)\")\n",
      "        ens[i] = Lorenz63()\n",
      "        ens[i].x = randn(3)*10.0\n",
      "        for j=1:10\n",
      "            run(ens[i])\n",
      "        end\n",
      "        ens[i].t = 0.0\n",
      "        ens[i].window = window\n",
      "    end\n",
      "\n",
      "    forecast = zeros(truth)\n",
      "    analysis = zeros(truth)\n",
      "    X_f = zeros(3,Nens)\n",
      "    for i=1:Nens\n",
      "        X_f[:,i] = ens[i].x\n",
      "    end\n",
      "    forecast[:,1] = mean(X_f,2)\n",
      "    # println(\"initial application of filter\")\n",
      "    X_a = ETKF(X_f,observations[:,1],eye(3),eye(3).*stddev,delta)\n",
      "    # println(\"initial analysis:\")\n",
      "    # println(X_a)\n",
      "    analysis[:,1] = mean(X_a,2)\n",
      "    for i=1:Nens\n",
      "        ens[i].x = X_a[:,i]+randn(3)*sigma\n",
      "    end\n",
      "\n",
      "    for j=1:int(runtime/window)\n",
      "        # println(\"time is $(j*window)\")\n",
      "        for i=1:Nens\n",
      "            run(ens[i])\n",
      "        end\n",
      "        for i=1:Nens\n",
      "            X_f[:,i] = ens[i].x\n",
      "        end\n",
      "        forecast[:,j+1] = mean(X_f,2)\n",
      "        X_a = ETKF(X_f,observations[:,j+1],eye(3),eye(3).*stddev,delta)\n",
      "        analysis[:,j+1] = mean(X_a,2)\n",
      "        for i=1:Nens\n",
      "            ens[i].x = X_a[:,i]+randn(3)*sigma\n",
      "        end\n",
      "    end\n",
      "    # println(\"final analysis:\")\n",
      "    # println(X_a)\n",
      "    # println(ens_i)\n",
      "    # println(rmse(truth[1,:],forecast[1,:]))\n",
      "    # ens_RMSE[ens_i] = rmse(truth[1,:],forecast[1,:])\n",
      "            ens_RMSE[delta_i,sigma_i,trial] = sqrt(sum((truth[1,:]-forecast[1,:]).^2))\n",
      "        end\n",
      "    end\n",
      "end"
     ],
     "language": "python",
     "metadata": {},
     "outputs": [
      {
       "output_type": "stream",
       "stream": "stdout",
       "text": [
        "testing vs ensemble size\n"
       ]
      },
      {
       "output_type": "stream",
       "stream": "stdout",
       "text": [
        "delta=0.0,sigma=0.0"
       ]
      },
      {
       "output_type": "stream",
       "stream": "stdout",
       "text": [
        "\n",
        "delta=0.0,sigma=0.25"
       ]
      },
      {
       "output_type": "stream",
       "stream": "stdout",
       "text": [
        "\n",
        "delta=0.0,sigma=0.5"
       ]
      },
      {
       "output_type": "stream",
       "stream": "stdout",
       "text": [
        "\n",
        "delta=0.0,sigma=0.75"
       ]
      },
      {
       "output_type": "stream",
       "stream": "stdout",
       "text": [
        "\n",
        "delta=0.0,sigma=1.0"
       ]
      },
      {
       "output_type": "stream",
       "stream": "stdout",
       "text": [
        "\n",
        "delta=0.0,sigma=1.25"
       ]
      },
      {
       "output_type": "stream",
       "stream": "stdout",
       "text": [
        "\n",
        "delta=0.0,sigma=1.5"
       ]
      },
      {
       "output_type": "stream",
       "stream": "stdout",
       "text": [
        "\n",
        "delta=0.0,sigma=1.75"
       ]
      },
      {
       "output_type": "stream",
       "stream": "stdout",
       "text": [
        "\n",
        "delta=0.0,sigma=2.0"
       ]
      },
      {
       "output_type": "stream",
       "stream": "stdout",
       "text": [
        "\n",
        "delta=0.0,sigma=2.25"
       ]
      },
      {
       "output_type": "stream",
       "stream": "stdout",
       "text": [
        "\n",
        "delta=0.0,sigma=2.5"
       ]
      },
      {
       "output_type": "stream",
       "stream": "stdout",
       "text": [
        "\n",
        "delta=0.25,sigma=0.0"
       ]
      },
      {
       "output_type": "stream",
       "stream": "stdout",
       "text": [
        "\n",
        "delta=0.25,sigma=0.25"
       ]
      },
      {
       "output_type": "stream",
       "stream": "stdout",
       "text": [
        "\n",
        "delta=0.25,sigma=0.5"
       ]
      },
      {
       "output_type": "stream",
       "stream": "stdout",
       "text": [
        "\n",
        "delta=0.25,sigma=0.75"
       ]
      },
      {
       "output_type": "stream",
       "stream": "stdout",
       "text": [
        "\n",
        "delta=0.25,sigma=1.0"
       ]
      },
      {
       "output_type": "stream",
       "stream": "stdout",
       "text": [
        "\n",
        "delta=0.25,sigma=1.25"
       ]
      },
      {
       "output_type": "stream",
       "stream": "stdout",
       "text": [
        "\n",
        "delta=0.25,sigma=1.5"
       ]
      },
      {
       "output_type": "stream",
       "stream": "stdout",
       "text": [
        "\n",
        "delta=0.25,sigma=1.75"
       ]
      },
      {
       "output_type": "stream",
       "stream": "stdout",
       "text": [
        "\n",
        "delta=0.25,sigma=2.0"
       ]
      },
      {
       "output_type": "stream",
       "stream": "stdout",
       "text": [
        "\n",
        "delta=0.25,sigma=2.25"
       ]
      },
      {
       "output_type": "stream",
       "stream": "stdout",
       "text": [
        "\n",
        "delta=0.25,sigma=2.5"
       ]
      },
      {
       "output_type": "stream",
       "stream": "stdout",
       "text": [
        "\n",
        "delta=0.5,sigma=0.0"
       ]
      },
      {
       "output_type": "stream",
       "stream": "stdout",
       "text": [
        "\n",
        "delta=0.5,sigma=0.25"
       ]
      },
      {
       "output_type": "stream",
       "stream": "stdout",
       "text": [
        "\n",
        "delta=0.5,sigma=0.5"
       ]
      },
      {
       "output_type": "stream",
       "stream": "stdout",
       "text": [
        "\n",
        "delta=0.5,sigma=0.75"
       ]
      },
      {
       "output_type": "stream",
       "stream": "stdout",
       "text": [
        "\n",
        "delta=0.5,sigma=1.0"
       ]
      },
      {
       "output_type": "stream",
       "stream": "stdout",
       "text": [
        "\n",
        "delta=0.5,sigma=1.25"
       ]
      },
      {
       "output_type": "stream",
       "stream": "stdout",
       "text": [
        "\n",
        "delta=0.5,sigma=1.5"
       ]
      },
      {
       "output_type": "stream",
       "stream": "stdout",
       "text": [
        "\n",
        "delta=0.5,sigma=1.75"
       ]
      },
      {
       "output_type": "stream",
       "stream": "stdout",
       "text": [
        "\n",
        "delta=0.5,sigma=2.0"
       ]
      },
      {
       "output_type": "stream",
       "stream": "stdout",
       "text": [
        "\n",
        "delta=0.5,sigma=2.25"
       ]
      },
      {
       "output_type": "stream",
       "stream": "stdout",
       "text": [
        "\n",
        "delta=0.5,sigma=2.5"
       ]
      },
      {
       "output_type": "stream",
       "stream": "stdout",
       "text": [
        "\n",
        "delta=0.75,sigma=0.0"
       ]
      },
      {
       "output_type": "stream",
       "stream": "stdout",
       "text": [
        "\n",
        "delta=0.75,sigma=0.25"
       ]
      },
      {
       "output_type": "stream",
       "stream": "stdout",
       "text": [
        "\n",
        "delta=0.75,sigma=0.5"
       ]
      },
      {
       "output_type": "stream",
       "stream": "stdout",
       "text": [
        "\n",
        "delta=0.75,sigma=0.75"
       ]
      },
      {
       "output_type": "stream",
       "stream": "stdout",
       "text": [
        "\n",
        "delta=0.75,sigma=1.0"
       ]
      },
      {
       "output_type": "stream",
       "stream": "stdout",
       "text": [
        "\n",
        "delta=0.75,sigma=1.25"
       ]
      },
      {
       "output_type": "stream",
       "stream": "stdout",
       "text": [
        "\n",
        "delta=0.75,sigma=1.5"
       ]
      },
      {
       "output_type": "stream",
       "stream": "stdout",
       "text": [
        "\n",
        "delta=0.75,sigma=1.75"
       ]
      },
      {
       "output_type": "stream",
       "stream": "stdout",
       "text": [
        "\n",
        "delta=0.75,sigma=2.0"
       ]
      },
      {
       "output_type": "stream",
       "stream": "stdout",
       "text": [
        "\n",
        "delta=0.75,sigma=2.25"
       ]
      },
      {
       "output_type": "stream",
       "stream": "stdout",
       "text": [
        "\n",
        "delta=0.75,sigma=2.5"
       ]
      },
      {
       "output_type": "stream",
       "stream": "stdout",
       "text": [
        "\n",
        "delta=1.0,sigma=0.0"
       ]
      },
      {
       "output_type": "stream",
       "stream": "stdout",
       "text": [
        "\n",
        "delta=1.0,sigma=0.25"
       ]
      },
      {
       "output_type": "stream",
       "stream": "stdout",
       "text": [
        "\n",
        "delta=1.0,sigma=0.5"
       ]
      },
      {
       "output_type": "stream",
       "stream": "stdout",
       "text": [
        "\n",
        "delta=1.0,sigma=0.75"
       ]
      },
      {
       "output_type": "stream",
       "stream": "stdout",
       "text": [
        "\n",
        "delta=1.0,sigma=1.0"
       ]
      },
      {
       "output_type": "stream",
       "stream": "stdout",
       "text": [
        "\n",
        "delta=1.0,sigma=1.25"
       ]
      },
      {
       "output_type": "stream",
       "stream": "stdout",
       "text": [
        "\n",
        "delta=1.0,sigma=1.5"
       ]
      },
      {
       "output_type": "stream",
       "stream": "stdout",
       "text": [
        "\n",
        "delta=1.0,sigma=1.75"
       ]
      },
      {
       "output_type": "stream",
       "stream": "stdout",
       "text": [
        "\n",
        "delta=1.0,sigma=2.0"
       ]
      },
      {
       "output_type": "stream",
       "stream": "stdout",
       "text": [
        "\n",
        "delta=1.0,sigma=2.25"
       ]
      },
      {
       "output_type": "stream",
       "stream": "stdout",
       "text": [
        "\n",
        "delta=1.0,sigma=2.5"
       ]
      },
      {
       "output_type": "stream",
       "stream": "stdout",
       "text": [
        "\n",
        "delta=1.25,sigma=0.0"
       ]
      },
      {
       "output_type": "stream",
       "stream": "stdout",
       "text": [
        "\n",
        "delta=1.25,sigma=0.25"
       ]
      },
      {
       "output_type": "stream",
       "stream": "stdout",
       "text": [
        "\n",
        "delta=1.25,sigma=0.5"
       ]
      },
      {
       "output_type": "stream",
       "stream": "stdout",
       "text": [
        "\n",
        "delta=1.25,sigma=0.75"
       ]
      },
      {
       "output_type": "stream",
       "stream": "stdout",
       "text": [
        "\n",
        "delta=1.25,sigma=1.0"
       ]
      },
      {
       "output_type": "stream",
       "stream": "stdout",
       "text": [
        "\n",
        "delta=1.25,sigma=1.25"
       ]
      },
      {
       "output_type": "stream",
       "stream": "stdout",
       "text": [
        "\n",
        "delta=1.25,sigma=1.5"
       ]
      },
      {
       "output_type": "stream",
       "stream": "stdout",
       "text": [
        "\n",
        "delta=1.25,sigma=1.75"
       ]
      },
      {
       "output_type": "stream",
       "stream": "stdout",
       "text": [
        "\n",
        "delta=1.25,sigma=2.0"
       ]
      },
      {
       "output_type": "stream",
       "stream": "stdout",
       "text": [
        "\n",
        "delta=1.25,sigma=2.25"
       ]
      },
      {
       "output_type": "stream",
       "stream": "stdout",
       "text": [
        "\n",
        "delta=1.25,sigma=2.5"
       ]
      },
      {
       "output_type": "stream",
       "stream": "stdout",
       "text": [
        "\n",
        "delta=1.5,sigma=0.0"
       ]
      },
      {
       "output_type": "stream",
       "stream": "stdout",
       "text": [
        "\n",
        "delta=1.5,sigma=0.25"
       ]
      },
      {
       "output_type": "stream",
       "stream": "stdout",
       "text": [
        "\n",
        "delta=1.5,sigma=0.5"
       ]
      },
      {
       "output_type": "stream",
       "stream": "stdout",
       "text": [
        "\n",
        "delta=1.5,sigma=0.75"
       ]
      },
      {
       "output_type": "stream",
       "stream": "stdout",
       "text": [
        "\n",
        "delta=1.5,sigma=1.0"
       ]
      },
      {
       "output_type": "stream",
       "stream": "stdout",
       "text": [
        "\n",
        "delta=1.5,sigma=1.25"
       ]
      },
      {
       "output_type": "stream",
       "stream": "stdout",
       "text": [
        "\n",
        "delta=1.5,sigma=1.5"
       ]
      },
      {
       "output_type": "stream",
       "stream": "stdout",
       "text": [
        "\n",
        "delta=1.5,sigma=1.75"
       ]
      },
      {
       "output_type": "stream",
       "stream": "stdout",
       "text": [
        "\n",
        "delta=1.5,sigma=2.0"
       ]
      },
      {
       "output_type": "stream",
       "stream": "stdout",
       "text": [
        "\n",
        "delta=1.5,sigma=2.25"
       ]
      },
      {
       "output_type": "stream",
       "stream": "stdout",
       "text": [
        "\n",
        "delta=1.5,sigma=2.5"
       ]
      },
      {
       "output_type": "stream",
       "stream": "stdout",
       "text": [
        "\n",
        "delta=1.75,sigma=0.0"
       ]
      },
      {
       "output_type": "stream",
       "stream": "stdout",
       "text": [
        "\n",
        "delta=1.75,sigma=0.25"
       ]
      },
      {
       "output_type": "stream",
       "stream": "stdout",
       "text": [
        "\n",
        "delta=1.75,sigma=0.5"
       ]
      },
      {
       "output_type": "stream",
       "stream": "stdout",
       "text": [
        "\n",
        "delta=1.75,sigma=0.75"
       ]
      },
      {
       "output_type": "stream",
       "stream": "stdout",
       "text": [
        "\n",
        "delta=1.75,sigma=1.0"
       ]
      },
      {
       "output_type": "stream",
       "stream": "stdout",
       "text": [
        "\n",
        "delta=1.75,sigma=1.25"
       ]
      },
      {
       "output_type": "stream",
       "stream": "stdout",
       "text": [
        "\n",
        "delta=1.75,sigma=1.5"
       ]
      },
      {
       "output_type": "stream",
       "stream": "stdout",
       "text": [
        "\n",
        "delta=1.75,sigma=1.75"
       ]
      },
      {
       "output_type": "stream",
       "stream": "stdout",
       "text": [
        "\n",
        "delta=1.75,sigma=2.0"
       ]
      },
      {
       "output_type": "stream",
       "stream": "stdout",
       "text": [
        "\n",
        "delta=1.75,sigma=2.25"
       ]
      },
      {
       "output_type": "stream",
       "stream": "stdout",
       "text": [
        "\n",
        "delta=1.75,sigma=2.5"
       ]
      },
      {
       "output_type": "stream",
       "stream": "stdout",
       "text": [
        "\n",
        "delta=2.0,sigma=0.0"
       ]
      },
      {
       "output_type": "stream",
       "stream": "stdout",
       "text": [
        "\n",
        "delta=2.0,sigma=0.25"
       ]
      },
      {
       "output_type": "stream",
       "stream": "stdout",
       "text": [
        "\n",
        "delta=2.0,sigma=0.5"
       ]
      },
      {
       "output_type": "stream",
       "stream": "stdout",
       "text": [
        "\n",
        "delta=2.0,sigma=0.75"
       ]
      },
      {
       "output_type": "stream",
       "stream": "stdout",
       "text": [
        "\n",
        "delta=2.0,sigma=1.0"
       ]
      },
      {
       "output_type": "stream",
       "stream": "stdout",
       "text": [
        "\n",
        "delta=2.0,sigma=1.25"
       ]
      },
      {
       "output_type": "stream",
       "stream": "stdout",
       "text": [
        "\n",
        "delta=2.0,sigma=1.5"
       ]
      },
      {
       "output_type": "stream",
       "stream": "stdout",
       "text": [
        "\n",
        "delta=2.0,sigma=1.75"
       ]
      },
      {
       "output_type": "stream",
       "stream": "stdout",
       "text": [
        "\n",
        "delta=2.0,sigma=2.0"
       ]
      },
      {
       "output_type": "stream",
       "stream": "stdout",
       "text": [
        "\n",
        "delta=2.0,sigma=2.25"
       ]
      },
      {
       "output_type": "stream",
       "stream": "stdout",
       "text": [
        "\n",
        "delta=2.0,sigma=2.5"
       ]
      },
      {
       "output_type": "stream",
       "stream": "stdout",
       "text": [
        "\n",
        "delta=2.25,sigma=0.0"
       ]
      },
      {
       "output_type": "stream",
       "stream": "stdout",
       "text": [
        "\n",
        "delta=2.25,sigma=0.25"
       ]
      },
      {
       "output_type": "stream",
       "stream": "stdout",
       "text": [
        "\n",
        "delta=2.25,sigma=0.5"
       ]
      },
      {
       "output_type": "stream",
       "stream": "stdout",
       "text": [
        "\n",
        "delta=2.25,sigma=0.75"
       ]
      },
      {
       "output_type": "stream",
       "stream": "stdout",
       "text": [
        "\n",
        "delta=2.25,sigma=1.0"
       ]
      },
      {
       "output_type": "stream",
       "stream": "stdout",
       "text": [
        "\n",
        "delta=2.25,sigma=1.25"
       ]
      },
      {
       "output_type": "stream",
       "stream": "stdout",
       "text": [
        "\n",
        "delta=2.25,sigma=1.5"
       ]
      },
      {
       "output_type": "stream",
       "stream": "stdout",
       "text": [
        "\n",
        "delta=2.25,sigma=1.75"
       ]
      },
      {
       "output_type": "stream",
       "stream": "stdout",
       "text": [
        "\n",
        "delta=2.25,sigma=2.0"
       ]
      },
      {
       "output_type": "stream",
       "stream": "stdout",
       "text": [
        "\n",
        "delta=2.25,sigma=2.25"
       ]
      },
      {
       "output_type": "stream",
       "stream": "stdout",
       "text": [
        "\n",
        "delta=2.25,sigma=2.5"
       ]
      },
      {
       "output_type": "stream",
       "stream": "stdout",
       "text": [
        "\n",
        "delta=2.5,sigma=0.0"
       ]
      },
      {
       "output_type": "stream",
       "stream": "stdout",
       "text": [
        "\n",
        "delta=2.5,sigma=0.25"
       ]
      },
      {
       "output_type": "stream",
       "stream": "stdout",
       "text": [
        "\n",
        "delta=2.5,sigma=0.5"
       ]
      },
      {
       "output_type": "stream",
       "stream": "stdout",
       "text": [
        "\n",
        "delta=2.5,sigma=0.75"
       ]
      },
      {
       "output_type": "stream",
       "stream": "stdout",
       "text": [
        "\n",
        "delta=2.5,sigma=1.0"
       ]
      },
      {
       "output_type": "stream",
       "stream": "stdout",
       "text": [
        "\n",
        "delta=2.5,sigma=1.25"
       ]
      },
      {
       "output_type": "stream",
       "stream": "stdout",
       "text": [
        "\n",
        "delta=2.5,sigma=1.5"
       ]
      },
      {
       "output_type": "stream",
       "stream": "stdout",
       "text": [
        "\n",
        "delta=2.5,sigma=1.75"
       ]
      },
      {
       "output_type": "stream",
       "stream": "stdout",
       "text": [
        "\n",
        "delta=2.5,sigma=2.0"
       ]
      },
      {
       "output_type": "stream",
       "stream": "stdout",
       "text": [
        "\n",
        "delta=2.5,sigma=2.25"
       ]
      },
      {
       "output_type": "stream",
       "stream": "stdout",
       "text": [
        "\n",
        "delta=2.5,sigma=2.5"
       ]
      },
      {
       "output_type": "stream",
       "stream": "stdout",
       "text": [
        "\n"
       ]
      }
     ],
     "prompt_number": 13
    },
    {
     "cell_type": "code",
     "collapsed": false,
     "input": [
      "println(ens_RMSE)\n",
      "plt.imshow(ens_RMSE[:,:,1],origin=\"lower\",aspect=\"equal\",alpha=1,interpolation=\"nearest\")\n",
      "plt.colorbar()\n",
      "plt.savefig(\"RMSE-ETKF-withnoise-1trial-widerer.svg\")"
     ],
     "language": "python",
     "metadata": {},
     "outputs": [
      {
       "output_type": "stream",
       "stream": "stdout",
       "text": [
        "[45"
       ]
      },
      {
       "output_type": "stream",
       "stream": "stdout",
       "text": [
        ".1801020409484 46.66529477523673 46.218772529788204 44.464339119241096 47.153062685701826 47.143751005590616 44.51754381963986 45.21036656080541 46.929570147508514 46.959659047490845 47.77188339093301\n",
        " 58.137663917977484 56.11570701520295 58.17838012647179 58.646398367278564 59.13585265840741 59.00652735057945 61.333318495347854 57.486243884848314 58.03960796996057 56.4462204855052 57.02725757346859\n",
        " 73.22793332921282 75.3738902523716 73.46459369261902 75.25244028338211 73.65863514305609 71.90437949599715 76.31752764341847 75.79039148818111 76.63320021292738 73.2058478087939 73.37085067900128\n",
        " 94.55765781886937 99.26557526741915 96.28052110097629 99.07136330921051 99.13627390059555 96.57795180025212 100.76821746290376 96.76265352795782 100.11371751062926 97.72606639111036 99.9030436305594\n",
        " 140.0066958679246 148.06266262217832 141.4976323547685 144.09277751818675 138.79428647297547 144.26116913923877 141.45739960298545 140.37192609827662 141.7916377580533 141.10367559975393 143.63189381012543\n",
        " 152.63327172708074 154.13359567399146 157.5608439402208 167.17176668563462 178.057942644429 165.83719585136865 162.5137095061651 162.25231545616387 170.92032028285 156.7213958310971 161.95771087697614\n",
        " 177.8070194152177 191.89642603509515 182.81006428920836 193.9104988619665 188.07503978396608 211.30824909716702 182.78477298077738 216.36601938806854 205.8079404034811 179.0577979506532 196.24231653519257\n",
        " 201.30383046959633 225.45273313347502 230.12736185985975 208.37304384120426 226.35375945272742 NaN 241.53665777938465 NaN 216.30840245566503 NaN 201.53027343733538\n",
        " NaN NaN NaN NaN NaN NaN NaN NaN NaN NaN NaN\n",
        " NaN NaN NaN NaN NaN NaN NaN NaN NaN NaN NaN\n",
        " NaN NaN NaN NaN NaN NaN NaN NaN NaN NaN NaN]\n"
       ]
      },
      {
       "metadata": {},
       "output_type": "display_data",
       "png": "[encoded data removed]",
       "text": [
        "Figure(PyObject <matplotlib.figure.Figure object at 0x11d24bfd0>)"
       ]
      }
     ],
     "prompt_number": 14
    },
    {
     "cell_type": "code",
     "collapsed": false,
     "input": [],
     "language": "python",
     "metadata": {},
     "outputs": []
    }
   ],
   "metadata": {}
  }
 ]
}