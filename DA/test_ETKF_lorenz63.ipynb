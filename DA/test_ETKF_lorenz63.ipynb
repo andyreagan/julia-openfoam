{
 "metadata": {
  "language": "Julia",
  "name": "",
  "signature": "sha256:159147a57f6e45ea66ef18f95c41984d5d118f8ee0fe39d480f3bcb603cd28b2"
 },
 "nbformat": 3,
 "nbformat_minor": 0,
 "worksheets": [
  {
   "cells": [
    {
     "cell_type": "code",
     "collapsed": false,
     "input": [
      "include(\"DA.jl\")\n",
      "using DA\n",
      "using PyPlot\n"
     ],
     "language": "python",
     "metadata": {},
     "outputs": [
      {
       "output_type": "stream",
       "stream": "stderr",
       "text": [
        "INFO: Loading help data...\n"
       ]
      }
     ],
     "prompt_number": 1
    },
    {
     "cell_type": "code",
     "collapsed": false,
     "input": [
      "include(\"../foamLia.jl\")\n",
      "using foamLia"
     ],
     "language": "python",
     "metadata": {},
     "outputs": [],
     "prompt_number": 2
    },
    {
     "cell_type": "code",
     "collapsed": false,
     "input": [
      "# some samples\n",
      "A = repmat([1,2,3],1,10)+.1*randn(3,10)\n",
      "X_f = A\n",
      "y_0 = [1.5,2.1,3.01]\n",
      "H = eye(3)\n",
      "R = .05.*eye(3)\n",
      "delta = .01\n",
      "\n",
      "# give it a shot\n",
      "X_a = ETKF(X_f,y_0,H,R,delta)\n",
      "\n",
      "println(\"quick test result:\")\n",
      "println(X_a)\n",
      "\n",
      "println(\"beginning real test\")\n",
      "l = Lorenz63()\n",
      "window = .05\n",
      "runtime = 10.0\n",
      "l.window = window\n",
      "l.x = randn(3)*10.0\n",
      "# get it to some model state\n",
      "for i=1:100\n",
      "   run(l)\n",
      "end\n",
      "\n",
      "# make a truth run\n",
      "truth = zeros(length(l.x),int(runtime/window)+1)\n",
      "truth[:,1] = l.x\n",
      "for i=1:int(runtime/window)\n",
      "    run(l)\n",
      "    truth[:,i+1] = l.x\n",
      "end\n",
      "\n",
      "# perturb that with uniform noise\n",
      "stddev = .5\n",
      "observations = truth+randn(size(truth))*stddev\n",
      "\n",
      "# now try to predict it\n",
      "l.t = 0.0\n",
      "\n",
      "# this fills with the same model\n",
      "delta = 0.1\n",
      "sigma = 0.1\n",
      "Nens = 20\n",
      "ens = Array(Lorenz63,Nens)\n",
      "for i=1:Nens\n",
      "    println(\"initializing ensemble $(i)\")\n",
      "    ens[i] = Lorenz63()\n",
      "    ens[i].x = randn(3)*10.0\n",
      "    for j=1:10\n",
      "        run(ens[i])\n",
      "    end\n",
      "    ens[i].t = 0.0\n",
      "    ens[i].window = window\n",
      "end\n",
      "\n",
      "forecast = zeros(truth)\n",
      "analysis = zeros(truth)\n",
      "X_f = zeros(3,Nens)\n",
      "for i=1:Nens\n",
      "    X_f[:,i] = ens[i].x\n",
      "end\n",
      "forecast[:,1] = mean(X_f,2)\n",
      "println(\"initial application of filter\")\n",
      "X_a = ETKF(X_f,observations[:,1],eye(3),eye(3).*stddev,delta)\n",
      "println(\"initial analysis:\")\n",
      "println(X_a)\n",
      "analysis[:,1] = mean(X_a,2)\n",
      "for i=1:Nens\n",
      "    ens[i].x = X_a[:,i]+randn(3)*sigma\n",
      "end\n",
      "\n",
      "for j=1:int(runtime/window)\n",
      "    # println(\"time is $(j*window)\")\n",
      "    for i=1:Nens\n",
      "        run(ens[i])\n",
      "    end\n",
      "    for i=1:Nens\n",
      "        X_f[:,i] = ens[i].x\n",
      "    end\n",
      "    forecast[:,j+1] = mean(X_f,2)\n",
      "    X_a = ETKF(X_f,observations[:,j+1],eye(3),eye(3).*stddev,delta)\n",
      "    analysis[:,j+1] = mean(X_a,2)\n",
      "    for i=1:Nens\n",
      "        ens[i].x = X_a[:,i]+randn(3)*sigma\n",
      "    end\n",
      "end\n",
      "\n",
      "# println(truth[:,1])\n",
      "# println(observations[:,1])\n",
      "# println(forecast[:,1])\n",
      "# println(analysis[:,1])\n",
      "\n",
      "# println(truth[:,end])\n",
      "# println(observations[:,end])\n",
      "# println(forecast[:,end])\n",
      "# println(analysis[:,end])\n",
      "\n",
      "# println(\"here are each of the ensembles:\")\n",
      "# for i=1:Nens\n",
      "#     println(ens[i].x)\n",
      "# end\n",
      "\n",
      "plt.figure(figsize=(10,10))\n",
      "plt.plot(0:window:runtime,truth[1,:].',\"k-\")\n",
      "plt.plot(0:window:runtime,observations[1,:].',\"g*\")\n",
      "plt.plot(0:window:runtime,forecast[1,:].',\"b-\")\n",
      "plt.plot(0:window:runtime,analysis[1,:].',\"r-\")\n",
      "plt.legend([\"truth\",\"observation\",\"forecast\",\"analysis\"],loc=\"best\")"
     ],
     "language": "python",
     "metadata": {},
     "outputs": [
      {
       "output_type": "stream",
       "stream": "stdout",
       "text": [
        "quick test result:\n"
       ]
      },
      {
       "output_type": "stream",
       "stream": "stdout",
       "text": [
        "["
       ]
      },
      {
       "output_type": "stream",
       "stream": "stdout",
       "text": [
        "3.4940987341103766 3.6282064326812424 3.7873536971830366 3.740668596831404 3.726880478293374 3.792364554503196 3.865163428999921 3.954829368755421 3.6903721729013172 3.7920294216604105\n",
        " 3.6532466249182924 3.6161521176238147 3.523136487180035 3.663642668408538 3.777336473307483 3.601031886814716 3.7445128761829554 3.43860416804529 3.712118989569083 3.5197928061272115\n",
        " 3.189155252087115 3.3046140380004765 3.1435356208083487 3.120771457851153 3.1550633324899526 3.0771519355370742 3.306905736026141 3.1670230059435793 3.397593451404053 3.193420573184902]\n",
        "beginning real test\n",
        "initializing ensemble 1"
       ]
      },
      {
       "output_type": "stream",
       "stream": "stdout",
       "text": [
        "\n",
        "initializing ensemble 2"
       ]
      },
      {
       "output_type": "stream",
       "stream": "stdout",
       "text": [
        "\n",
        "initializing ensemble 3"
       ]
      },
      {
       "output_type": "stream",
       "stream": "stdout",
       "text": [
        "\n",
        "initializing ensemble 4"
       ]
      },
      {
       "output_type": "stream",
       "stream": "stdout",
       "text": [
        "\n",
        "initializing ensemble 5"
       ]
      },
      {
       "output_type": "stream",
       "stream": "stdout",
       "text": [
        "\n",
        "initializing ensemble 6"
       ]
      },
      {
       "output_type": "stream",
       "stream": "stdout",
       "text": [
        "\n",
        "initializing ensemble 7"
       ]
      },
      {
       "output_type": "stream",
       "stream": "stdout",
       "text": [
        "\n",
        "initializing ensemble 8"
       ]
      },
      {
       "output_type": "stream",
       "stream": "stdout",
       "text": [
        "\n",
        "initializing ensemble 9"
       ]
      },
      {
       "output_type": "stream",
       "stream": "stdout",
       "text": [
        "\n",
        "initializing ensemble 10"
       ]
      },
      {
       "output_type": "stream",
       "stream": "stdout",
       "text": [
        "\n",
        "initializing ensemble 11"
       ]
      },
      {
       "output_type": "stream",
       "stream": "stdout",
       "text": [
        "\n",
        "initializing ensemble 12"
       ]
      },
      {
       "output_type": "stream",
       "stream": "stdout",
       "text": [
        "\n",
        "initializing ensemble 13"
       ]
      },
      {
       "output_type": "stream",
       "stream": "stdout",
       "text": [
        "\n",
        "initializing ensemble 14"
       ]
      },
      {
       "output_type": "stream",
       "stream": "stdout",
       "text": [
        "\n",
        "initializing ensemble 15"
       ]
      },
      {
       "output_type": "stream",
       "stream": "stdout",
       "text": [
        "\n",
        "initializing ensemble 16"
       ]
      },
      {
       "output_type": "stream",
       "stream": "stdout",
       "text": [
        "\n",
        "initializing ensemble 17"
       ]
      },
      {
       "output_type": "stream",
       "stream": "stdout",
       "text": [
        "\n",
        "initializing ensemble 18"
       ]
      },
      {
       "output_type": "stream",
       "stream": "stdout",
       "text": [
        "\n",
        "initializing ensemble 19"
       ]
      },
      {
       "output_type": "stream",
       "stream": "stdout",
       "text": [
        "\n",
        "initializing ensemble 20"
       ]
      },
      {
       "output_type": "stream",
       "stream": "stdout",
       "text": [
        "\n",
        "initial application of filter"
       ]
      },
      {
       "output_type": "stream",
       "stream": "stdout",
       "text": [
        "\n",
        "initial analysis:\n",
        "[-3.5162743669853227 -10.265169933930718 -13.52948711168068 13.528652376103748 16.149173710128565 -11.31065596862093 2.2396640612640377 6.437600611515746 -10.77028649992845 -0.4472680881551372 -2.887687071907263 -5.414679136746864 -9.122171218538673 2.9007230267271935 -13.005466856640806 -7.805640124603492 6.1576687759882045 -13.041615075398786 13.214783804152358 8.722481400500936\n",
        " -6.193256956644905 -2.1558752352926476 -7.109841312806946 11.882129691477438 23.219603580006364 -18.032699486223372 3.300074631851319 -6.448602344770802 -15.891328173337872 -3.25643821899265 -5.122857167505719 -3.3538861008647682 -4.921210266479225 3.7210932632092577 -17.698881846120436 0.8714384122805354 9.150754741513035 -18.52246999754112 8.718360135363772 -0.31580247739272727\n",
        " 2.1987939123767664 26.766644277401248 29.195526193577905 24.963143299329456 19.148117647359285 10.418872758882465 5.020303152141448 26.74491739510316 12.315615714468219 13.75355556938722 1.8831855092242016 16.359662269148945 22.282643947116462 7.68193626365013 16.939462238047422 24.900757297507845 7.808415395559592 15.845813141689472 27.124827870518946 25.869643670347912]\n"
       ]
      },
      {
       "metadata": {},
       "output_type": "display_data",
       "png": "[encoded data removed]",
       "text": [
        "Figure(PyObject <matplotlib.figure.Figure object at 0x105963510>)"
       ]
      },
      {
       "metadata": {},
       "output_type": "pyout",
       "prompt_number": 3,
       "text": [
        "PyObject <matplotlib.legend.Legend object at 0x111155d10>"
       ]
      }
     ],
     "prompt_number": 3
    },
    {
     "cell_type": "code",
     "collapsed": false,
     "input": [
      "sqrt(sum((truth[1,50:end]-forecast[1,50:end]).^2))"
     ],
     "language": "python",
     "metadata": {},
     "outputs": [
      {
       "metadata": {},
       "output_type": "pyout",
       "prompt_number": 11,
       "text": [
        "23.945163878921164"
       ]
      }
     ],
     "prompt_number": 11
    },
    {
     "cell_type": "code",
     "collapsed": false,
     "input": [
      "# let's test RMSE vs inflation\n",
      "\n",
      "# ens_sizes = [5,10,20,50,100,500]\n",
      "deltas = 0.00:0.25:2.5\n",
      "sigmas = 0.00:0.25:2.5\n",
      "# deltas = 0.00:0.05:0.5\n",
      "# sigmas = 0.00:0.05:0.5\n",
      "n_trials = 1\n",
      "# n_trials = 10\n",
      "ens_RMSE = zeros(Float64,(size(deltas)[1],size(sigmas)[1],n_trials))\n",
      "\n",
      "println(\"testing vs ensemble size\")\n",
      "\n",
      "window = 0.1\n",
      "runtime = 20.0\n",
      "\n",
      "l = Lorenz63()\n",
      "l.window = window\n",
      "l.x = randn(3)*10.0\n",
      "# get it to some model state\n",
      "for i=1:100\n",
      "   run(l)\n",
      "end\n",
      "\n",
      "# make a truth run\n",
      "truth = zeros(length(l.x),int(runtime/window)+1)\n",
      "truth[:,1] = l.x\n",
      "for i=1:int(runtime/window)\n",
      "    run(l)\n",
      "    truth[:,i+1] = l.x\n",
      "end\n",
      "\n",
      "# perturb that with uniform noise\n",
      "stddev = .5\n",
      "observations = truth+randn(size(truth))*stddev\n",
      "\n",
      "# now try to predict it\n",
      "l.t = 0.0\n",
      "\n",
      "Nens = 20\n",
      "for delta_i=1:size(deltas)[1]\n",
      "    for sigma_i=1:size(sigmas)[1]\n",
      "        delta = deltas[delta_i]\n",
      "        sigma = sigmas[sigma_i]\n",
      "        println(\"delta=$(delta),sigma=$(sigma)\")\n",
      "    for trial=1:n_trials\n",
      "    # println(\"using Nens=$(Nens)\")\n",
      "    ens = Array(Lorenz63,Nens)\n",
      "    for i=1:Nens\n",
      "        # println(\"initializing ensemble $(i)\")\n",
      "        ens[i] = Lorenz63()\n",
      "        ens[i].x = randn(3)*10.0\n",
      "        for j=1:10\n",
      "            run(ens[i])\n",
      "        end\n",
      "        ens[i].t = 0.0\n",
      "        ens[i].window = window\n",
      "    end\n",
      "\n",
      "    forecast = zeros(truth)\n",
      "    analysis = zeros(truth)\n",
      "    X_f = zeros(3,Nens)\n",
      "    for i=1:Nens\n",
      "        X_f[:,i] = ens[i].x\n",
      "    end\n",
      "    forecast[:,1] = mean(X_f,2)\n",
      "    # println(\"initial application of filter\")\n",
      "    X_a = ETKF(X_f,observations[:,1],eye(3),eye(3).*stddev,delta)\n",
      "    # println(\"initial analysis:\")\n",
      "    # println(X_a)\n",
      "    analysis[:,1] = mean(X_a,2)\n",
      "    for i=1:Nens\n",
      "        ens[i].x = X_a[:,i]+randn(3)*sigma\n",
      "    end\n",
      "\n",
      "    for j=1:int(runtime/window)\n",
      "        # println(\"time is $(j*window)\")\n",
      "        for i=1:Nens\n",
      "            run(ens[i])\n",
      "        end\n",
      "        for i=1:Nens\n",
      "            X_f[:,i] = ens[i].x\n",
      "        end\n",
      "        forecast[:,j+1] = mean(X_f,2)\n",
      "        X_a = ETKF(X_f,observations[:,j+1],eye(3),eye(3).*stddev,delta)\n",
      "        analysis[:,j+1] = mean(X_a,2)\n",
      "        for i=1:Nens\n",
      "            ens[i].x = X_a[:,i]+randn(3)*sigma\n",
      "        end\n",
      "    end\n",
      "    # println(\"final analysis:\")\n",
      "    # println(X_a)\n",
      "    # println(ens_i)\n",
      "    # println(rmse(truth[1,:],forecast[1,:]))\n",
      "    # ens_RMSE[ens_i] = rmse(truth[1,:],forecast[1,:])\n",
      "            ens_RMSE[delta_i,sigma_i,trial] = sqrt(sum((truth[1,:]-forecast[1,:]).^2))\n",
      "        end\n",
      "    end\n",
      "end"
     ],
     "language": "python",
     "metadata": {},
     "outputs": [
      {
       "output_type": "stream",
       "stream": "stdout",
       "text": [
        "testing vs ensemble size\n"
       ]
      },
      {
       "output_type": "stream",
       "stream": "stdout",
       "text": [
        "delta=0.0,sigma=0.0"
       ]
      },
      {
       "output_type": "stream",
       "stream": "stdout",
       "text": [
        "\n",
        "delta=0.0,sigma=0.25"
       ]
      },
      {
       "output_type": "stream",
       "stream": "stdout",
       "text": [
        "\n",
        "delta=0.0,sigma=0.5"
       ]
      },
      {
       "output_type": "stream",
       "stream": "stdout",
       "text": [
        "\n",
        "delta=0.0,sigma=0.75"
       ]
      },
      {
       "output_type": "stream",
       "stream": "stdout",
       "text": [
        "\n",
        "delta=0.0,sigma=1.0"
       ]
      },
      {
       "output_type": "stream",
       "stream": "stdout",
       "text": [
        "\n",
        "delta=0.0,sigma=1.25"
       ]
      },
      {
       "output_type": "stream",
       "stream": "stdout",
       "text": [
        "\n",
        "delta=0.0,sigma=1.5"
       ]
      },
      {
       "output_type": "stream",
       "stream": "stdout",
       "text": [
        "\n",
        "delta=0.0,sigma=1.75"
       ]
      },
      {
       "output_type": "stream",
       "stream": "stdout",
       "text": [
        "\n",
        "delta=0.0,sigma=2.0"
       ]
      },
      {
       "output_type": "stream",
       "stream": "stdout",
       "text": [
        "\n",
        "delta=0.0,sigma=2.25"
       ]
      },
      {
       "output_type": "stream",
       "stream": "stdout",
       "text": [
        "\n",
        "delta=0.0,sigma=2.5"
       ]
      },
      {
       "output_type": "stream",
       "stream": "stdout",
       "text": [
        "\n",
        "delta=0.25,sigma=0.0"
       ]
      },
      {
       "output_type": "stream",
       "stream": "stdout",
       "text": [
        "\n",
        "delta=0.25,sigma=0.25"
       ]
      },
      {
       "output_type": "stream",
       "stream": "stdout",
       "text": [
        "\n",
        "delta=0.25,sigma=0.5"
       ]
      },
      {
       "output_type": "stream",
       "stream": "stdout",
       "text": [
        "\n",
        "delta=0.25,sigma=0.75"
       ]
      },
      {
       "output_type": "stream",
       "stream": "stdout",
       "text": [
        "\n",
        "delta=0.25,sigma=1.0"
       ]
      },
      {
       "output_type": "stream",
       "stream": "stdout",
       "text": [
        "\n",
        "delta=0.25,sigma=1.25"
       ]
      },
      {
       "output_type": "stream",
       "stream": "stdout",
       "text": [
        "\n",
        "delta=0.25,sigma=1.5"
       ]
      },
      {
       "output_type": "stream",
       "stream": "stdout",
       "text": [
        "\n",
        "delta=0.25,sigma=1.75"
       ]
      },
      {
       "output_type": "stream",
       "stream": "stdout",
       "text": [
        "\n",
        "delta=0.25,sigma=2.0"
       ]
      },
      {
       "output_type": "stream",
       "stream": "stdout",
       "text": [
        "\n",
        "delta=0.25,sigma=2.25"
       ]
      },
      {
       "output_type": "stream",
       "stream": "stdout",
       "text": [
        "\n",
        "delta=0.25,sigma=2.5"
       ]
      },
      {
       "output_type": "stream",
       "stream": "stdout",
       "text": [
        "\n",
        "delta=0.5,sigma=0.0"
       ]
      },
      {
       "output_type": "stream",
       "stream": "stdout",
       "text": [
        "\n",
        "delta=0.5,sigma=0.25"
       ]
      },
      {
       "output_type": "stream",
       "stream": "stdout",
       "text": [
        "\n",
        "delta=0.5,sigma=0.5"
       ]
      },
      {
       "output_type": "stream",
       "stream": "stdout",
       "text": [
        "\n",
        "delta=0.5,sigma=0.75"
       ]
      },
      {
       "output_type": "stream",
       "stream": "stdout",
       "text": [
        "\n",
        "delta=0.5,sigma=1.0"
       ]
      },
      {
       "output_type": "stream",
       "stream": "stdout",
       "text": [
        "\n",
        "delta=0.5,sigma=1.25"
       ]
      },
      {
       "output_type": "stream",
       "stream": "stdout",
       "text": [
        "\n",
        "delta=0.5,sigma=1.5"
       ]
      },
      {
       "output_type": "stream",
       "stream": "stdout",
       "text": [
        "\n",
        "delta=0.5,sigma=1.75"
       ]
      },
      {
       "output_type": "stream",
       "stream": "stdout",
       "text": [
        "\n",
        "delta=0.5,sigma=2.0"
       ]
      },
      {
       "output_type": "stream",
       "stream": "stdout",
       "text": [
        "\n",
        "delta=0.5,sigma=2.25"
       ]
      },
      {
       "output_type": "stream",
       "stream": "stdout",
       "text": [
        "\n",
        "delta=0.5,sigma=2.5"
       ]
      },
      {
       "output_type": "stream",
       "stream": "stdout",
       "text": [
        "\n",
        "delta=0.75,sigma=0.0"
       ]
      },
      {
       "output_type": "stream",
       "stream": "stdout",
       "text": [
        "\n",
        "delta=0.75,sigma=0.25"
       ]
      },
      {
       "output_type": "stream",
       "stream": "stdout",
       "text": [
        "\n",
        "delta=0.75,sigma=0.5"
       ]
      },
      {
       "output_type": "stream",
       "stream": "stdout",
       "text": [
        "\n",
        "delta=0.75,sigma=0.75"
       ]
      },
      {
       "output_type": "stream",
       "stream": "stdout",
       "text": [
        "\n",
        "delta=0.75,sigma=1.0"
       ]
      },
      {
       "output_type": "stream",
       "stream": "stdout",
       "text": [
        "\n",
        "delta=0.75,sigma=1.25"
       ]
      },
      {
       "output_type": "stream",
       "stream": "stdout",
       "text": [
        "\n",
        "delta=0.75,sigma=1.5"
       ]
      },
      {
       "output_type": "stream",
       "stream": "stdout",
       "text": [
        "\n",
        "delta=0.75,sigma=1.75"
       ]
      },
      {
       "output_type": "stream",
       "stream": "stdout",
       "text": [
        "\n",
        "delta=0.75,sigma=2.0"
       ]
      },
      {
       "output_type": "stream",
       "stream": "stdout",
       "text": [
        "\n",
        "delta=0.75,sigma=2.25"
       ]
      },
      {
       "output_type": "stream",
       "stream": "stdout",
       "text": [
        "\n",
        "delta=0.75,sigma=2.5"
       ]
      },
      {
       "output_type": "stream",
       "stream": "stdout",
       "text": [
        "\n",
        "delta=1.0,sigma=0.0"
       ]
      },
      {
       "output_type": "stream",
       "stream": "stdout",
       "text": [
        "\n",
        "delta=1.0,sigma=0.25"
       ]
      },
      {
       "output_type": "stream",
       "stream": "stdout",
       "text": [
        "\n",
        "delta=1.0,sigma=0.5"
       ]
      },
      {
       "output_type": "stream",
       "stream": "stdout",
       "text": [
        "\n",
        "delta=1.0,sigma=0.75"
       ]
      },
      {
       "output_type": "stream",
       "stream": "stdout",
       "text": [
        "\n",
        "delta=1.0,sigma=1.0"
       ]
      },
      {
       "output_type": "stream",
       "stream": "stdout",
       "text": [
        "\n",
        "delta=1.0,sigma=1.25"
       ]
      },
      {
       "output_type": "stream",
       "stream": "stdout",
       "text": [
        "\n",
        "delta=1.0,sigma=1.5"
       ]
      },
      {
       "output_type": "stream",
       "stream": "stdout",
       "text": [
        "\n",
        "delta=1.0,sigma=1.75"
       ]
      },
      {
       "output_type": "stream",
       "stream": "stdout",
       "text": [
        "\n",
        "delta=1.0,sigma=2.0"
       ]
      },
      {
       "output_type": "stream",
       "stream": "stdout",
       "text": [
        "\n",
        "delta=1.0,sigma=2.25"
       ]
      },
      {
       "output_type": "stream",
       "stream": "stdout",
       "text": [
        "\n",
        "delta=1.0,sigma=2.5"
       ]
      },
      {
       "output_type": "stream",
       "stream": "stdout",
       "text": [
        "\n",
        "delta=1.25,sigma=0.0"
       ]
      },
      {
       "output_type": "stream",
       "stream": "stdout",
       "text": [
        "\n",
        "delta=1.25,sigma=0.25"
       ]
      },
      {
       "output_type": "stream",
       "stream": "stdout",
       "text": [
        "\n",
        "delta=1.25,sigma=0.5"
       ]
      },
      {
       "output_type": "stream",
       "stream": "stdout",
       "text": [
        "\n",
        "delta=1.25,sigma=0.75"
       ]
      },
      {
       "output_type": "stream",
       "stream": "stdout",
       "text": [
        "\n",
        "delta=1.25,sigma=1.0"
       ]
      },
      {
       "output_type": "stream",
       "stream": "stdout",
       "text": [
        "\n",
        "delta=1.25,sigma=1.25"
       ]
      },
      {
       "output_type": "stream",
       "stream": "stdout",
       "text": [
        "\n",
        "delta=1.25,sigma=1.5"
       ]
      },
      {
       "output_type": "stream",
       "stream": "stdout",
       "text": [
        "\n",
        "delta=1.25,sigma=1.75"
       ]
      },
      {
       "output_type": "stream",
       "stream": "stdout",
       "text": [
        "\n",
        "delta=1.25,sigma=2.0"
       ]
      },
      {
       "output_type": "stream",
       "stream": "stdout",
       "text": [
        "\n",
        "delta=1.25,sigma=2.25"
       ]
      },
      {
       "output_type": "stream",
       "stream": "stdout",
       "text": [
        "\n",
        "delta=1.25,sigma=2.5"
       ]
      },
      {
       "output_type": "stream",
       "stream": "stdout",
       "text": [
        "\n",
        "delta=1.5,sigma=0.0"
       ]
      },
      {
       "output_type": "stream",
       "stream": "stdout",
       "text": [
        "\n",
        "delta=1.5,sigma=0.25"
       ]
      },
      {
       "output_type": "stream",
       "stream": "stdout",
       "text": [
        "\n",
        "delta=1.5,sigma=0.5"
       ]
      },
      {
       "output_type": "stream",
       "stream": "stdout",
       "text": [
        "\n",
        "delta=1.5,sigma=0.75"
       ]
      },
      {
       "output_type": "stream",
       "stream": "stdout",
       "text": [
        "\n",
        "delta=1.5,sigma=1.0"
       ]
      },
      {
       "output_type": "stream",
       "stream": "stdout",
       "text": [
        "\n",
        "delta=1.5,sigma=1.25"
       ]
      },
      {
       "output_type": "stream",
       "stream": "stdout",
       "text": [
        "\n",
        "delta=1.5,sigma=1.5"
       ]
      },
      {
       "output_type": "stream",
       "stream": "stdout",
       "text": [
        "\n",
        "delta=1.5,sigma=1.75"
       ]
      },
      {
       "output_type": "stream",
       "stream": "stdout",
       "text": [
        "\n",
        "delta=1.5,sigma=2.0"
       ]
      },
      {
       "output_type": "stream",
       "stream": "stdout",
       "text": [
        "\n",
        "delta=1.5,sigma=2.25"
       ]
      },
      {
       "output_type": "stream",
       "stream": "stdout",
       "text": [
        "\n",
        "delta=1.5,sigma=2.5"
       ]
      },
      {
       "output_type": "stream",
       "stream": "stdout",
       "text": [
        "\n",
        "delta=1.75,sigma=0.0"
       ]
      },
      {
       "output_type": "stream",
       "stream": "stdout",
       "text": [
        "\n",
        "delta=1.75,sigma=0.25"
       ]
      },
      {
       "output_type": "stream",
       "stream": "stdout",
       "text": [
        "\n",
        "delta=1.75,sigma=0.5"
       ]
      },
      {
       "output_type": "stream",
       "stream": "stdout",
       "text": [
        "\n",
        "delta=1.75,sigma=0.75"
       ]
      },
      {
       "output_type": "stream",
       "stream": "stdout",
       "text": [
        "\n",
        "delta=1.75,sigma=1.0"
       ]
      },
      {
       "output_type": "stream",
       "stream": "stdout",
       "text": [
        "\n",
        "delta=1.75,sigma=1.25"
       ]
      },
      {
       "output_type": "stream",
       "stream": "stdout",
       "text": [
        "\n",
        "delta=1.75,sigma=1.5"
       ]
      },
      {
       "output_type": "stream",
       "stream": "stdout",
       "text": [
        "\n",
        "delta=1.75,sigma=1.75"
       ]
      },
      {
       "output_type": "stream",
       "stream": "stdout",
       "text": [
        "\n",
        "delta=1.75,sigma=2.0"
       ]
      },
      {
       "output_type": "stream",
       "stream": "stdout",
       "text": [
        "\n",
        "delta=1.75,sigma=2.25"
       ]
      },
      {
       "output_type": "stream",
       "stream": "stdout",
       "text": [
        "\n",
        "delta=1.75,sigma=2.5"
       ]
      },
      {
       "output_type": "stream",
       "stream": "stdout",
       "text": [
        "\n",
        "delta=2.0,sigma=0.0"
       ]
      },
      {
       "output_type": "stream",
       "stream": "stdout",
       "text": [
        "\n",
        "delta=2.0,sigma=0.25"
       ]
      },
      {
       "output_type": "stream",
       "stream": "stdout",
       "text": [
        "\n",
        "delta=2.0,sigma=0.5"
       ]
      },
      {
       "output_type": "stream",
       "stream": "stdout",
       "text": [
        "\n",
        "delta=2.0,sigma=0.75"
       ]
      },
      {
       "output_type": "stream",
       "stream": "stdout",
       "text": [
        "\n",
        "delta=2.0,sigma=1.0"
       ]
      },
      {
       "output_type": "stream",
       "stream": "stdout",
       "text": [
        "\n",
        "delta=2.0,sigma=1.25"
       ]
      },
      {
       "output_type": "stream",
       "stream": "stdout",
       "text": [
        "\n",
        "delta=2.0,sigma=1.5"
       ]
      },
      {
       "output_type": "stream",
       "stream": "stdout",
       "text": [
        "\n",
        "delta=2.0,sigma=1.75"
       ]
      },
      {
       "output_type": "stream",
       "stream": "stdout",
       "text": [
        "\n",
        "delta=2.0,sigma=2.0"
       ]
      },
      {
       "output_type": "stream",
       "stream": "stdout",
       "text": [
        "\n",
        "delta=2.0,sigma=2.25"
       ]
      },
      {
       "output_type": "stream",
       "stream": "stdout",
       "text": [
        "\n",
        "delta=2.0,sigma=2.5"
       ]
      },
      {
       "output_type": "stream",
       "stream": "stdout",
       "text": [
        "\n",
        "delta=2.25,sigma=0.0"
       ]
      },
      {
       "output_type": "stream",
       "stream": "stdout",
       "text": [
        "\n",
        "delta=2.25,sigma=0.25"
       ]
      },
      {
       "output_type": "stream",
       "stream": "stdout",
       "text": [
        "\n",
        "delta=2.25,sigma=0.5"
       ]
      },
      {
       "output_type": "stream",
       "stream": "stdout",
       "text": [
        "\n",
        "delta=2.25,sigma=0.75"
       ]
      },
      {
       "output_type": "stream",
       "stream": "stdout",
       "text": [
        "\n",
        "delta=2.25,sigma=1.0"
       ]
      },
      {
       "output_type": "stream",
       "stream": "stdout",
       "text": [
        "\n",
        "delta=2.25,sigma=1.25"
       ]
      },
      {
       "output_type": "stream",
       "stream": "stdout",
       "text": [
        "\n",
        "delta=2.25,sigma=1.5"
       ]
      },
      {
       "output_type": "stream",
       "stream": "stdout",
       "text": [
        "\n",
        "delta=2.25,sigma=1.75"
       ]
      },
      {
       "output_type": "stream",
       "stream": "stdout",
       "text": [
        "\n",
        "delta=2.25,sigma=2.0"
       ]
      },
      {
       "output_type": "stream",
       "stream": "stdout",
       "text": [
        "\n",
        "delta=2.25,sigma=2.25"
       ]
      },
      {
       "output_type": "stream",
       "stream": "stdout",
       "text": [
        "\n",
        "delta=2.25,sigma=2.5"
       ]
      },
      {
       "output_type": "stream",
       "stream": "stdout",
       "text": [
        "\n",
        "delta=2.5,sigma=0.0"
       ]
      },
      {
       "output_type": "stream",
       "stream": "stdout",
       "text": [
        "\n",
        "delta=2.5,sigma=0.25"
       ]
      },
      {
       "output_type": "stream",
       "stream": "stdout",
       "text": [
        "\n",
        "delta=2.5,sigma=0.5"
       ]
      },
      {
       "output_type": "stream",
       "stream": "stdout",
       "text": [
        "\n",
        "delta=2.5,sigma=0.75"
       ]
      },
      {
       "output_type": "stream",
       "stream": "stdout",
       "text": [
        "\n",
        "delta=2.5,sigma=1.0"
       ]
      },
      {
       "output_type": "stream",
       "stream": "stdout",
       "text": [
        "\n",
        "delta=2.5,sigma=1.25"
       ]
      },
      {
       "output_type": "stream",
       "stream": "stdout",
       "text": [
        "\n",
        "delta=2.5,sigma=1.5"
       ]
      },
      {
       "output_type": "stream",
       "stream": "stdout",
       "text": [
        "\n",
        "delta=2.5,sigma=1.75"
       ]
      },
      {
       "output_type": "stream",
       "stream": "stdout",
       "text": [
        "\n",
        "delta=2.5,sigma=2.0"
       ]
      },
      {
       "output_type": "stream",
       "stream": "stdout",
       "text": [
        "\n",
        "delta=2.5,sigma=2.25"
       ]
      },
      {
       "output_type": "stream",
       "stream": "stdout",
       "text": [
        "\n",
        "delta=2.5,sigma=2.5"
       ]
      },
      {
       "output_type": "stream",
       "stream": "stdout",
       "text": [
        "\n"
       ]
      }
     ],
     "prompt_number": 13
    },
    {
     "cell_type": "code",
     "collapsed": false,
     "input": [
      "println(ens_RMSE)\n",
      "plt.imshow(ens_RMSE[:,:,1],origin=\"lower\",aspect=\"equal\",alpha=1,interpolation=\"nearest\")\n",
      "plt.colorbar()\n",
      "plt.savefig(\"RMSE-ETKF-withnoise-1trial-widerer.svg\")"
     ],
     "language": "python",
     "metadata": {},
     "outputs": [
      {
       "output_type": "stream",
       "stream": "stdout",
       "text": [
        "[45"
       ]
      },
      {
       "output_type": "stream",
       "stream": "stdout",
       "text": [
        ".1801020409484 46.66529477523673 46.218772529788204 44.464339119241096 47.153062685701826 47.143751005590616 44.51754381963986 45.21036656080541 46.929570147508514 46.959659047490845 47.77188339093301\n",
        " 58.137663917977484 56.11570701520295 58.17838012647179 58.646398367278564 59.13585265840741 59.00652735057945 61.333318495347854 57.486243884848314 58.03960796996057 56.4462204855052 57.02725757346859\n",
        " 73.22793332921282 75.3738902523716 73.46459369261902 75.25244028338211 73.65863514305609 71.90437949599715 76.31752764341847 75.79039148818111 76.63320021292738 73.2058478087939 73.37085067900128\n",
        " 94.55765781886937 99.26557526741915 96.28052110097629 99.07136330921051 99.13627390059555 96.57795180025212 100.76821746290376 96.76265352795782 100.11371751062926 97.72606639111036 99.9030436305594\n",
        " 140.0066958679246 148.06266262217832 141.4976323547685 144.09277751818675 138.79428647297547 144.26116913923877 141.45739960298545 140.37192609827662 141.7916377580533 141.10367559975393 143.63189381012543\n",
        " 152.63327172708074 154.13359567399146 157.5608439402208 167.17176668563462 178.057942644429 165.83719585136865 162.5137095061651 162.25231545616387 170.92032028285 156.7213958310971 161.95771087697614\n",
        " 177.8070194152177 191.89642603509515 182.81006428920836 193.9104988619665 188.07503978396608 211.30824909716702 182.78477298077738 216.36601938806854 205.8079404034811 179.0577979506532 196.24231653519257\n",
        " 201.30383046959633 225.45273313347502 230.12736185985975 208.37304384120426 226.35375945272742 NaN 241.53665777938465 NaN 216.30840245566503 NaN 201.53027343733538\n",
        " NaN NaN NaN NaN NaN NaN NaN NaN NaN NaN NaN\n",
        " NaN NaN NaN NaN NaN NaN NaN NaN NaN NaN NaN\n",
        " NaN NaN NaN NaN NaN NaN NaN NaN NaN NaN NaN]\n"
       ]
      },
      {
       "metadata": {},
       "output_type": "display_data",
       "png": "[encoded data removed]",
       "text": [
        "Figure(PyObject <matplotlib.figure.Figure object at 0x11d24bfd0>)"
       ]
      }
     ],
     "prompt_number": 14
    },
    {
     "cell_type": "code",
     "collapsed": false,
     "input": [],
     "language": "python",
     "metadata": {},
     "outputs": []
    }
   ],
   "metadata": {}
  }
 ]
}