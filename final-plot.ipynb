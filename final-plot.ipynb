{
 "cells": [
  {
   "cell_type": "code",
   "execution_count": 1,
   "metadata": {
    "collapsed": true
   },
   "outputs": [],
   "source": [
    "# this is straight python (ignore)\n",
    "import matplotlib.pyplot as plt\n",
    "%matplotlib inline\n",
    "import numpy as np"
   ]
  },
  {
   "cell_type": "code",
   "execution_count": 10,
   "metadata": {
    "collapsed": false
   },
   "outputs": [
    {
     "name": "stdout",
     "output_type": "stream",
     "text": [
      "results/forecastFlux-bigtest-01-full.csv\n",
      "(20,)\n",
      "nan\n",
      "results/forecastFlux-bigtest-02-full.csv\n",
      "(20,)\n",
      "nan\n",
      "results/forecastFlux-bigtest-03-full.csv\n",
      "(20,)\n",
      "nan\n",
      "results/forecastFlux-bigtest-04-full.csv\n",
      "(20,)\n",
      "nan\n",
      "results/forecastFlux-bigtest-05-full.csv\n",
      "(20,)\n",
      "nan\n",
      "results/forecastFlux-bigtest-06-full.csv\n",
      "(20,)\n",
      "nan\n",
      "results/forecastFlux-bigtest-07-full.csv\n",
      "(20,)\n",
      "nan\n",
      "results/forecastFlux-bigtest-08-full.csv\n",
      "(20,)\n",
      "nan\n",
      "results/forecastFlux-bigtest-09-full.csv\n",
      "(20,)\n",
      "nan\n",
      "results/forecastFlux-bigtest-010-full.csv\n",
      "(20,)\n",
      "nan\n",
      "results/forecastFlux-bigtest-011-full.csv\n",
      "(20,)\n",
      "nan\n",
      "results/forecastFlux-bigtest-012-full.csv\n",
      "(20,)\n",
      "nan\n",
      "results/forecastFlux-bigtest-013-full.csv\n",
      "(20,)\n",
      "nan\n",
      "results/forecastFlux-bigtest-014-full.csv\n",
      "(20,)\n",
      "nan\n",
      "results/forecastFlux-bigtest-015-full.csv\n",
      "(20,)\n",
      "nan\n",
      "results/forecastFlux-bigtest-016-full.csv\n",
      "(20,)\n",
      "nan\n"
     ]
    }
   ],
   "source": [
    "for i in range(16):\n",
    "    print(\"results/forecastFlux-bigtest-0{0}-full.csv\".format(i+1))\n",
    "    f = open(\"results/forecastFlux-bigtest-0{0}-full.csv\".format(i+1),\"r\")\n",
    "    f.close()    \n",
    "    a = np.genfromtxt(\"results/forecastFlux-bigtest-0{0}-full.csv\".format(i+1))\n",
    "    print(a.shape)\n",
    "    print(a[0])"
   ]
  },
  {
   "cell_type": "code",
   "execution_count": null,
   "metadata": {
    "collapsed": true
   },
   "outputs": [],
   "source": []
  }
 ],
 "metadata": {
  "kernelspec": {
   "display_name": "Python 2",
   "language": "python",
   "name": "python2"
  },
  "language_info": {
   "codemirror_mode": {
    "name": "ipython",
    "version": 2
   },
   "file_extension": ".py",
   "mimetype": "text/x-python",
   "name": "python",
   "nbconvert_exporter": "python",
   "pygments_lexer": "ipython2",
   "version": "2.7.10"
  }
 },
 "nbformat": 4,
 "nbformat_minor": 0
}
